{
 "cells": [
  {
   "cell_type": "code",
   "execution_count": null,
   "metadata": {},
   "outputs": [],
   "source": [
    "import openai \n",
    "\n",
    "# 발급받은 API 키 설정\n",
    "OPENAAI_API_KEY = \"sk-proj-MDic2mvjwVdAnvwwu139T3BlbkFJYob4PQbX6hMZzuEpsqsV\"\n",
    "\n",
    "# openai API 키 인증\n",
    "openai.api_key = OPENAAI_API_KEY\n",
    "\n",
    "client =OpenAI()"
   ]
  },
  {
   "cell_type": "code",
   "execution_count": null,
   "metadata": {},
   "outputs": [],
   "source": [
    "import os\n",
    "import openai\n",
    "\n",
    "from dotenv import load_dotenv\n",
    "\n",
    "load_dotenv()\n",
    "\n",
    "openai.api_key = os.getenv(\"sk-proj-MDic2mvjwVdAnvwwu139T3BlbkFJYob4PQbX6hMZzuEpsqsV\")\n",
    "\n",
    "response = openai.Completion.create(\n",
    "  model=\"text-davinci-003\",\n",
    "  prompt=\"안녕. 내 이름은 정민욱이야. \\n\\nQ: 이름이 뭘까?\\nA:\",\n",
    "  temperature=0,\n",
    "  max_tokens=100,\n",
    "  top_p=1,\n",
    "  frequency_penalty=0.0,\n",
    "  presence_penalty=0.0,\n",
    "  stop=[\"\\n\"]\n",
    ")\n",
    "\n",
    "print(response)\n",
    "\n",
    "print(response.choices[0].text.strip())"
   ]
  },
  {
   "cell_type": "code",
   "execution_count": null,
   "metadata": {},
   "outputs": [],
   "source": [
    "# ChatGPT API 호출하기\n",
    "response = openai.ChatCompletion.create(model=model, messages=messages)\n",
    "answer = response['choices'][0]['message']['content']"
   ]
  },
  {
   "cell_type": "code",
   "execution_count": 2,
   "metadata": {},
   "outputs": [
    {
     "name": "stdout",
     "output_type": "stream",
     "text": [
      "An error occurred: No API key provided. You can set your API key in code using 'openai.api_key = <API-KEY>', or you can set the environment variable OPENAI_API_KEY=<API-KEY>). If your API key is stored in a file, you can point the openai module at it with 'openai.api_key_path = <PATH>'. You can generate API keys in the OpenAI web interface. See https://platform.openai.com/account/api-keys for details.\n",
      "------------------------------\n",
      "user_input: 너는 누구야?\n",
      "bot_resp: 죄송합니다. 오류가 발생했습니다. 다시 시도해 주세요.\n"
     ]
    }
   ],
   "source": [
    "import os\n",
    "import openai\n",
    "import time\n",
    "\n",
    "def ask(text): \n",
    "    user_input = {\"role\": \"user\", \"content\": text} \n",
    "    messages.append(user_input) \n",
    "    \n",
    "    try:\n",
    "        response = openai.ChatCompletion.create(\n",
    "            model=\"gpt-3.5-turbo\", \n",
    "            messages=messages\n",
    "        )\n",
    "        bot_text = response['choices'][0]['message']['content'] \n",
    "        bot_resp = {\"role\": \"assistant\", \"content\": bot_text} \n",
    "        messages.append(bot_resp) \n",
    "        return bot_text\n",
    "    except openai.error.RateLimitError:\n",
    "        print(\"Rate limit exceeded. Please wait and try again later.\")\n",
    "        return \"죄송합니다. 현재 요청이 많아 잠시 후 다시 시도해 주세요.\"\n",
    "    except openai.error.OpenAIError as e:\n",
    "        print(f\"An error occurred: {e}\")\n",
    "        return \"죄송합니다. 오류가 발생했습니다. 다시 시도해 주세요.\"\n",
    "\n",
    "# Load your API key from an environment variable or secret management service\n",
    "openai.api_key = os.getenv(\"sk-proj-MDic2mvjwVdAnvwwu139T3BlbkFJYob4PQbX6hMZzuEpsqsV\")\n",
    "\n",
    "system_instruction = \"\"\"\n",
    "너는 한국공학대 쥬씨 카페 AI 직원이야.\n",
    "아래는 카페 음료 종류야.\n",
    "아래 종류의 음료 말고는 다른 음료는 없어\n",
    "\n",
    "- 아메리카노    \n",
    "- 라떼 \n",
    "- 스무디 \n",
    "\n",
    "위의 메뉴 말고는 없다고 생각하면돼\n",
    "\"\"\"\n",
    "messages = [{\"role\": \"system\", \"content\": system_instruction}]\n",
    "\n",
    "while True: \n",
    "    user_input = input(\"user input: \") \n",
    "    if user_input.lower() in ['exit', 'quit', '종료']:\n",
    "        break\n",
    "    bot_resp = ask(user_input) \n",
    "    \n",
    "    print(\"-\"*30) \n",
    "    print(f\"user_input: {user_input}\") \n",
    "    print(f\"bot_resp: {bot_resp}\")"
   ]
  },
  {
   "cell_type": "code",
   "execution_count": 2,
   "metadata": {},
   "outputs": [
    {
     "name": "stdout",
     "output_type": "stream",
     "text": [
      "코드를 작성해드리겠습니다. 먼저 OpenAI API를 사용하기 위해 API 키가 필요하므로, 해당 API 키를 발급받아야 합니다. API 키를 발급받은 후에 아래 코드를 사용하여 간단한 요청을 보낼 수 있습니다.\n",
      "\n",
      "```python\n",
      "import openai\n",
      "\n",
      "api_key = \"YOUR_API_KEY\"\n"
     ]
    }
   ],
   "source": [
    "import openai\n",
    "\n",
    "# OpenAI API 키 설정 (자신의 API 키를 여기에 입력하세요)\n",
    "openai.api_key = 'sk-proj-MDic2mvjwVdAnvwwu139T3BlbkFJYob4PQbX6hMZzuEpsqsV'\n",
    "\n",
    "# 모델에 보낼 메시지 설정\n",
    "messages = [\n",
    "    {\"role\": \"system\", \"content\": \"You are a helpful assistant.\"},\n",
    "    {\"role\": \"user\", \"content\": \"OpenAI API를 사용해 간단한 응답을 받을 수 있는 코드를 작성해줘.\"}\n",
    "]\n",
    "\n",
    "# API 호출\n",
    "response = openai.ChatCompletion.create(\n",
    "    model=\"gpt-3.5-turbo\",  # 사용할 모델\n",
    "    messages=messages,\n",
    "    max_tokens=100  # 응답에서 생성할 최대 토큰 수\n",
    ")\n",
    "\n",
    "# 응답 출력\n",
    "print(response.choices[0].message['content'].strip())\n"
   ]
  }
 ],
 "metadata": {
  "kernelspec": {
   "display_name": "ML",
   "language": "python",
   "name": "python3"
  },
  "language_info": {
   "codemirror_mode": {
    "name": "ipython",
    "version": 3
   },
   "file_extension": ".py",
   "mimetype": "text/x-python",
   "name": "python",
   "nbconvert_exporter": "python",
   "pygments_lexer": "ipython3",
   "version": "3.11.5"
  }
 },
 "nbformat": 4,
 "nbformat_minor": 2
}
