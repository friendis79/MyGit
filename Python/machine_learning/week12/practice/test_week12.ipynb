{
 "cells": [
  {
   "cell_type": "code",
   "execution_count": 2,
   "metadata": {},
   "outputs": [],
   "source": [
    "# 오류 back propagation 알고리즘 구현\n",
    "import numpy as np\n",
    "\n",
    "def sigmoid(x):\n",
    "    return 1 / (1 + np.exp(-x))\n",
    "\n",
    "def sigmoid_derivative(x):\n",
    "    return x * (1 - x)\n",
    "\n",
    "def initialize_weights(input_size, hidden_size, output_size):\n",
    "    np.random.seed(42)\n",
    "    W1 = np.random.randn(input_size, hidden_size) * 0.1\n",
    "    b1 = np.zeros((1, hidden_size))\n",
    "    W2 = np.random.randn(hidden_size, output_size) * 0.1\n",
    "    b2 = np.zeros((1, output_size))\n",
    "    return W1, b1, W2, b2\n",
    "\n",
    "def forward_propagation(X, W1, b1, W2, b2):\n",
    "    Z1 = np.dot(X, W1) + b1\n",
    "    A1 = sigmoid(Z1)\n",
    "    Z2 = np.dot(A1, W2) + b2\n",
    "    A2 = sigmoid(Z2)\n",
    "    return Z1, A1, Z2, A2\n",
    "\n",
    "def compute_loss(y_true, y_pred):\n",
    "    m = y_true.shape[0]\n",
    "    loss = np.sum((y_true - y_pred) ** 2) / (2 * m)\n",
    "    return loss\n",
    "\n",
    "def compute_mse(y_true, y_pred):\n",
    "    mse = np.mean((y_true - y_pred) ** 2)\n",
    "    return mse\n",
    "\n",
    "def back_propagation(X, y, Z1, A1, Z2, A2, W1, b1, W2, b2, learning_rate):\n",
    "    m = X.shape[0]\n",
    "    dZ2 = A2 - y\n",
    "    dW2 = np.dot(A1.T, dZ2) / m\n",
    "    db2 = np.sum(dZ2, axis=0, keepdims=True) / m\n",
    "    dA1 = np.dot(dZ2, W2.T)\n",
    "    dZ1 = dA1 * sigmoid_derivative(A1)\n",
    "    dW1 = np.dot(X.T, dZ1) / m\n",
    "    db1 = np.sum(dZ1, axis=0, keepdims=True) / m\n",
    "    \n",
    "    W1 -= learning_rate * dW1\n",
    "    b1 -= learning_rate * db1\n",
    "    W2 -= learning_rate * dW2\n",
    "    b2 -= learning_rate * db2\n",
    "    \n",
    "    return W1, b1, W2, b2"
   ]
  },
  {
   "cell_type": "code",
   "execution_count": 2,
   "metadata": {},
   "outputs": [],
   "source": [
    "# 데이터 7:3으로 나누기\n",
    "import pandas as pd\n",
    "from sklearn.model_selection import train_test_split\n",
    "from sklearn.preprocessing import StandardScaler\n",
    "\n",
    "# 데이터 불러오기\n",
    "data = pd.read_csv(\"NN_data.csv\")\n",
    "\n",
    "# Feature와 label 분리\n",
    "X = data.iloc[:, :-1].values\n",
    "y = data.iloc[:, -1].values\n",
    "\n",
    "# 데이터 분할\n",
    "X_train, X_test, y_train, y_test = train_test_split(X, y, test_size=0.3, random_state=42)\n",
    "\n",
    "# 데이터 정규화\n",
    "scaler = StandardScaler()\n",
    "X_train = scaler.fit_transform(X_train)\n",
    "X_test = scaler.transform(X_test)\n",
    "\n",
    "# y_train과 y_test를 2D array로 변환\n",
    "y_train = y_train.reshape(-1, 1)\n",
    "y_test = y_test.reshape(-1, 1)"
   ]
  },
  {
   "cell_type": "code",
   "execution_count": 3,
   "metadata": {},
   "outputs": [
    {
     "name": "stdout",
     "output_type": "stream",
     "text": [
      "Epoch 0, Loss: 1.5380083940331182\n",
      "Epoch 100, Loss: 0.8747222499016\n",
      "Epoch 200, Loss: 0.8611867806764716\n",
      "Epoch 300, Loss: 0.8611112479178816\n",
      "Epoch 400, Loss: 0.8611111112940408\n",
      "Epoch 500, Loss: 0.8611111111146711\n",
      "Epoch 600, Loss: 0.8611111111116454\n",
      "Epoch 700, Loss: 0.8611111111111851\n",
      "Epoch 800, Loss: 0.8611111111111194\n",
      "Epoch 900, Loss: 0.8611111111111118\n"
     ]
    },
    {
     "data": {
      "image/png": "[encoded data removed]",
      "text/plain": [
       "<Figure size 640x480 with 1 Axes>"
      ]
     },
     "metadata": {},
     "output_type": "display_data"
    }
   ],
   "source": [
    "# training set 삽입하여 인공신경망 훈련하기\n",
    "# 하이퍼 파라미터 설정\n",
    "input_size = X_train.shape[1]\n",
    "hidden_size = 10  # 임의로 설정\n",
    "output_size = 1\n",
    "learning_rate = 0.01\n",
    "epochs = 1000\n",
    "\n",
    "# 가중치 초기화\n",
    "W1, b1, W2, b2 = initialize_weights(input_size, hidden_size, output_size)\n",
    "\n",
    "# 훈련\n",
    "losses = []\n",
    "for epoch in range(epochs):\n",
    "    Z1, A1, Z2, A2 = forward_propagation(X_train, W1, b1, W2, b2)\n",
    "    loss = compute_loss(y_train, A2)\n",
    "    losses.append(loss)\n",
    "    W1, b1, W2, b2 = back_propagation(X_train, y_train, Z1, A1, Z2, A2, W1, b1, W2, b2, learning_rate)\n",
    "    \n",
    "    if epoch % 100 == 0:\n",
    "        print(f\"Epoch {epoch}, Loss: {loss}\")\n",
    "\n",
    "# 학습 결과 그래프\n",
    "import matplotlib.pyplot as plt\n",
    "\n",
    "plt.plot(range(epochs), losses)\n",
    "plt.xlabel('Epochs')\n",
    "plt.ylabel('Loss')\n",
    "plt.title('Epochs vs Loss')\n",
    "plt.show()\n"
   ]
  },
  {
   "cell_type": "code",
   "execution_count": 1,
   "metadata": {},
   "outputs": [
    {
     "ename": "NameError",
     "evalue": "name 'initialize_weights' is not defined",
     "output_type": "error",
     "traceback": [
      "\u001b[1;31m---------------------------------------------------------------------------\u001b[0m",
      "\u001b[1;31mNameError\u001b[0m                                 Traceback (most recent call last)",
      "Cell \u001b[1;32mIn[1], line 28\u001b[0m\n\u001b[0;32m     26\u001b[0m \u001b[38;5;28;01mfor\u001b[39;00m learning_rate \u001b[38;5;129;01min\u001b[39;00m param_grid[\u001b[38;5;124m'\u001b[39m\u001b[38;5;124mlearning_rate\u001b[39m\u001b[38;5;124m'\u001b[39m]:\n\u001b[0;32m     27\u001b[0m     \u001b[38;5;28;01mfor\u001b[39;00m epochs \u001b[38;5;129;01min\u001b[39;00m param_grid[\u001b[38;5;124m'\u001b[39m\u001b[38;5;124mepochs\u001b[39m\u001b[38;5;124m'\u001b[39m]:\n\u001b[1;32m---> 28\u001b[0m         loss \u001b[38;5;241m=\u001b[39m train_with_params(hidden_size, learning_rate, epochs)\n\u001b[0;32m     29\u001b[0m         \u001b[38;5;28;01mif\u001b[39;00m loss \u001b[38;5;241m<\u001b[39m best_loss:\n\u001b[0;32m     30\u001b[0m             best_loss \u001b[38;5;241m=\u001b[39m loss\n",
      "Cell \u001b[1;32mIn[1], line 13\u001b[0m, in \u001b[0;36mtrain_with_params\u001b[1;34m(hidden_size, learning_rate, epochs)\u001b[0m\n\u001b[0;32m     12\u001b[0m \u001b[38;5;28;01mdef\u001b[39;00m \u001b[38;5;21mtrain_with_params\u001b[39m(hidden_size, learning_rate, epochs):\n\u001b[1;32m---> 13\u001b[0m     W1, b1, W2, b2 \u001b[38;5;241m=\u001b[39m initialize_weights(input_size, hidden_size, output_size)\n\u001b[0;32m     14\u001b[0m     losses \u001b[38;5;241m=\u001b[39m []\n\u001b[0;32m     15\u001b[0m     \u001b[38;5;28;01mfor\u001b[39;00m epoch \u001b[38;5;129;01min\u001b[39;00m \u001b[38;5;28mrange\u001b[39m(epochs):\n",
      "\u001b[1;31mNameError\u001b[0m: name 'initialize_weights' is not defined"
     ]
    }
   ],
   "source": [
    "# 하이퍼 파라매터 튜닝을 하여 최적의 매개변수을 찾기\n",
    "from sklearn.model_selection import GridSearchCV\n",
    "\n",
    "# Grid Search용 파라미터 범위 설정\n",
    "param_grid = {\n",
    "    'hidden_size': [5, 10, 20],\n",
    "    'learning_rate': [0.01, 0.001, 0.0001],\n",
    "    'epochs': [1000, 2000, 3000]\n",
    "}\n",
    "\n",
    "# 그리드 탐색 함수 정의\n",
    "def train_with_params(hidden_size, learning_rate, epochs):\n",
    "    W1, b1, W2, b2 = initialize_weights(input_size, hidden_size, output_size)\n",
    "    losses = []\n",
    "    for epoch in range(epochs):\n",
    "        Z1, A1, Z2, A2 = forward_propagation(X_train, W1, b1, W2, b2)\n",
    "        loss = compute_loss(y_train, A2)\n",
    "        losses.append(loss)\n",
    "        W1, b1, W2, b2 = back_propagation(X_train, y_train, Z1, A1, Z2, A2, W1, b1, W2, b2, learning_rate)\n",
    "    return losses[-1]\n",
    "\n",
    "best_params = None\n",
    "best_loss = float('inf')\n",
    "\n",
    "for hidden_size in param_grid['hidden_size']:\n",
    "    for learning_rate in param_grid['learning_rate']:\n",
    "        for epochs in param_grid['epochs']:\n",
    "            loss = train_with_params(hidden_size, learning_rate, epochs)\n",
    "            if loss < best_loss:\n",
    "                best_loss = loss\n",
    "                best_params = {'hidden_size': hidden_size, 'learning_rate': learning_rate, 'epochs': epochs}\n",
    "\n",
    "print(\"Best parameters:\", best_params)"
   ]
  },
  {
   "cell_type": "code",
   "execution_count": null,
   "metadata": {},
   "outputs": [],
   "source": [
    "# Test set 삽입하여 성능을 평가하기"
   ]
  }
 ],
 "metadata": {
  "kernelspec": {
   "display_name": "AI",
   "language": "python",
   "name": "python3"
  },
  "language_info": {
   "codemirror_mode": {
    "name": "ipython",
    "version": 3
   },
   "file_extension": ".py",
   "mimetype": "text/x-python",
   "name": "python",
   "nbconvert_exporter": "python",
   "pygments_lexer": "ipython3",
   "version": "3.11.5"
  }
 },
 "nbformat": 4,
 "nbformat_minor": 2
}
