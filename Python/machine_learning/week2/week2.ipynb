{
 "cells": [
  {
   "cell_type": "code",
   "execution_count": null,
   "metadata": {},
   "outputs": [],
   "source": [
    "# 라이브러리 버전 확인\n",
    "\n",
    "import sys\n",
    "import pandas as pd\n",
    "import matplotlib\n",
    "import numpy as np\n",
    "import scipy as sp\n",
    "import IPython\n",
    "import sklearn\n",
    "\n",
    "print(\"sys Version : \", sys.version)\n",
    "print(\"pandas Version : \", pd.__version__)\n",
    "print(\"matplotlib Version : \", np.__version__)\n",
    "print(\"numpy Version : \", sp.__version__)\n",
    "print(\"scipy Version : \", IPython.__version__)\n",
    "print(\"IPython Version : \", sklearn.__version__)\n"
   ]
  },
  {
   "cell_type": "code",
   "execution_count": null,
   "metadata": {},
   "outputs": [],
   "source": [
    "# 변수 선언\n",
    "\n",
    "Number = 10\n",
    "print(\"Previous value :: \", Number)\n",
    "\n",
    "Number = 105.7 # 재선언\n",
    "print(\"NEw value :: \", Number)"
   ]
  },
  {
   "cell_type": "code",
   "execution_count": null,
   "metadata": {},
   "outputs": [],
   "source": [
    "# 여러 변수에 같은 값 할당\n",
    "\n",
    "x = y = z = 10.5\n",
    "print(\"x = \", x)\n",
    "print(\"x = \", y)\n",
    "print(\"x = \", z)"
   ]
  },
  {
   "cell_type": "code",
   "execution_count": null,
   "metadata": {},
   "outputs": [],
   "source": [
    "# 여러 변수에 다른 값 할당\n",
    "\n",
    "x, y, z = 1, 10.5, \"Hello!\"\n",
    "print(\"x = \", x)\n",
    "print(\"x = \", y)\n",
    "print(\"x = \", z)"
   ]
  },
  {
   "cell_type": "code",
   "execution_count": null,
   "metadata": {},
   "outputs": [],
   "source": [
    "# input() 함수 사용\n",
    "\n",
    "x = input()\n",
    "y = input(\"문자열을 입력하시오 : \")\n",
    "\n",
    "print(x, y)"
   ]
  },
  {
   "cell_type": "code",
   "execution_count": null,
   "metadata": {},
   "outputs": [],
   "source": [
    "# 변수에 입력받기\n",
    "\n",
    "\"\"\" a, b = input().split() # 입력 받은 값을 공백을 기준으로 분리\n",
    "print('a = ', a)\n",
    "print('b = ', b) \"\"\"\n",
    "\n",
    "\"\"\" a, b = input().split(',') # 입력 받은 값을 콤마를 기준으로 분리\n",
    "a = int(a)\n",
    "b = int(b)\n",
    "print('a + b = ', a+b) \"\"\"\n",
    "\n",
    "\"\"\" a, b = input().split(:) # 입력 받은 값을 :을 기준으로 분리\n",
    "print('a = ', a)\n",
    "print('b = ', b) \"\"\"\n",
    "\n",
    "# map() 함수로 정수 변환\n",
    "\n",
    "a, b = map(int, input(\"a, b : \").split())\n",
    "print(a+b)"
   ]
  },
  {
   "cell_type": "code",
   "execution_count": null,
   "metadata": {},
   "outputs": [],
   "source": [
    "# 출력하기\n",
    "\n",
    "\"\"\" a=1; b=2; c=3\n",
    "print(a, b, c)\n",
    "print(10, 30, 35.6, 3+6j)\n",
    "\n",
    "name, age, grade, weight = \"Minwook Jeong\", 15, 'A', 56.78\n",
    "print(name, age, grade, weight) \"\"\"\n",
    "\n",
    "# 문자열과 함께 표시 가능\n",
    "\"\"\" Name = \"Minwook Jeong\"\n",
    "print(\"This is a string.\")\n",
    "print(\"Name : \", Name) \"\"\"\n",
    "\n",
    "# 문자열 포메팅을 이용한 정보 표시(1)\n",
    "\"\"\" a=\"I eat %d apples\" % 3\n",
    "print(a)\n",
    "\n",
    "number = 10\n",
    "day = \"three\"\n",
    "b = \"I ate %d apples. So I was sick for %s days.\" %(number, day)\n",
    "print(b)\n",
    "\n",
    "c = \"%0.4f\" % 3.14212324\n",
    "print(c) \"\"\"\n",
    "\n",
    "# 문자열 포메팅을 이용한 정보 표시(2)\n",
    "a = \"Name is {name}, Age is {Age}.\".format(Age = 3, name=\"홍길동\")\n",
    "print(a)\n",
    "b = \"Name is {}.\".format(\"딥러닝\")\n",
    "print(b)\n",
    "\n",
    "name = \"홍길동\"\n",
    "age = 15\n",
    "print(\"Name is {0}, Age is {1}.\".format(name, age))\n",
    "grade = \"A\"\n",
    "weight = 36.780\n",
    "print(\"Grade is {0}, Weight is {1:.3f} kg.\".format(grade, weight))\n"
   ]
  },
  {
   "cell_type": "code",
   "execution_count": null,
   "metadata": {},
   "outputs": [],
   "source": [
    "# USe sep & end\n",
    "\n",
    "a = 1; b = 2; c = 3\n",
    "print(a, b, c, sep=', ') # 콤마와 공백 지정\n",
    "print(a, b, c, sep='') #빈 문자열 지정\n",
    "print(a, b, c, sep='x') # x 지정\n",
    "print(a, b, c, sep='\\n') #개행 문자(\\n) 지정\n",
    "print(a, end='') # 빈 문자열 지정\n",
    "print(b, end='')\n",
    "print(c)\n",
    "print(a, end=' ') # end에 공백 한 칸 지정\n",
    "print(b, end=' ')\n",
    "print(c)\n",
    "print(a, end='xxx') \n",
    "print(b, end='yyy')\n",
    "print(c)"
   ]
  },
  {
   "cell_type": "code",
   "execution_count": null,
   "metadata": {},
   "outputs": [],
   "source": [
    "# 변수형 확인 : type() 함수 이용\n",
    "\n",
    "x, y, z = 1, 10.5, \"Hello!!\"\n",
    "print(\"Value: \", x, \", Type: \", type(x))\n",
    "print(\"Value: \", y, \", Type: \", type(y))\n",
    "print(\"Value: \", z, \", Type: \", type(z))"
   ]
  },
  {
   "cell_type": "code",
   "execution_count": null,
   "metadata": {},
   "outputs": [],
   "source": [
    "# 같은 변수형 변수들의 합 (+)\n",
    "\n",
    "a, b = 10, 15\n",
    "print( a+b )\n",
    "a, b = 10.2, 15.5\n",
    "print( a+b )\n",
    "a, b = \"My name is \", \"Gil Dong.\"\n",
    "print( a+b )"
   ]
  },
  {
   "cell_type": "code",
   "execution_count": null,
   "metadata": {},
   "outputs": [],
   "source": [
    "# 다른 변수형 변수들의 합 (+)\n",
    "\n",
    "a, b = 10, 15.5\n",
    "print( a+b )\n",
    "a, b = 10.2, 2-8j\n",
    "print( a+b )\n",
    "a, b = 10, \"Gil Dong.\"\n",
    "print( a+b )"
   ]
  }
 ],
 "metadata": {
  "kernelspec": {
   "display_name": "base",
   "language": "python",
   "name": "python3"
  },
  "language_info": {
   "codemirror_mode": {
    "name": "ipython",
    "version": 3
   },
   "file_extension": ".py",
   "mimetype": "text/x-python",
   "name": "python",
   "nbconvert_exporter": "python",
   "pygments_lexer": "ipython3",
   "version": "3.11.5"
  }
 },
 "nbformat": 4,
 "nbformat_minor": 2
}
