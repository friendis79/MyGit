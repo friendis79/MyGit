{
 "cells": [
  {
   "cell_type": "code",
   "execution_count": null,
   "metadata": {},
   "outputs": [],
   "source": [
    "# 실수형\n",
    "x = 6. \n",
    "y = .23\n",
    "print(x,y)"
   ]
  },
  {
   "cell_type": "code",
   "execution_count": null,
   "metadata": {},
   "outputs": [],
   "source": [
    "# 복소수형\n",
    "x = 10 + 5j\n",
    "\n",
    "# 실수부 출력\n",
    "print(x.real)\n",
    "# 허수부 출력\n",
    "print(x.imag)"
   ]
  },
  {
   "cell_type": "code",
   "execution_count": null,
   "metadata": {},
   "outputs": [],
   "source": [
    "# 지수 표현 방식\n",
    "\n",
    "# 1,000,000,000의 지수 표현 방식\n",
    "x = 1e9\n",
    "print(x)\n",
    "\n",
    "# 132.5 \n",
    "y = 13.25e1\n",
    "print(y)\n",
    "\n",
    "# 7.682\n",
    "z = 7682e-3\n",
    "print(z)"
   ]
  },
  {
   "cell_type": "code",
   "execution_count": null,
   "metadata": {},
   "outputs": [],
   "source": [
    "# 시퀀스 자료형 (Sequence Type)\n",
    "\n",
    "str1 = \"Hello Python\"\n",
    "str2 = \"Hello Python\"\n",
    "print(str1)\n",
    "print(str2)\n",
    "\n",
    "# 백슬래시 (\\) 사용\n",
    "str3 = \"Hello \\\"Python\\\"\"\n",
    "print(str3)"
   ]
  },
  {
   "cell_type": "code",
   "execution_count": null,
   "metadata": {},
   "outputs": [],
   "source": [
    "# 시퀀스 자료형 : 문자열\n",
    "\n",
    "a = \"Hello\"\n",
    "b = \"World\"\n",
    "print(a+ \" \"+b)\n",
    "print(a*3)\n",
    "print(a[1:3])"
   ]
  },
  {
   "cell_type": "code",
   "execution_count": null,
   "metadata": {},
   "outputs": [],
   "source": [
    "# 시퀀스 자료형 리스트\n",
    "\n",
    "list1 = [\"Hello\", 100, 33.3, True]\n",
    "print(list1)\n",
    "\n",
    "list2 = [1, 2, 3] * 3\n",
    "print(list2)"
   ]
  },
  {
   "cell_type": "code",
   "execution_count": null,
   "metadata": {},
   "outputs": [],
   "source": [
    "# 빈 리스트 만들기\n",
    "\n",
    "list1 = []\n",
    "list2 = list()\n",
    "\n",
    "print(list1)\n",
    "print(list2)"
   ]
  },
  {
   "cell_type": "code",
   "execution_count": null,
   "metadata": {},
   "outputs": [],
   "source": [
    "# 1차원 배열 생성\n",
    "\n",
    "a = [1, 2, 3, 4, 5]\n",
    "print(a)\n",
    "print(len(a))"
   ]
  },
  {
   "cell_type": "code",
   "execution_count": null,
   "metadata": {},
   "outputs": [],
   "source": [
    "# 2차원 배열 생성\n",
    "\n",
    "A = [[1, 2, 3], [4, 5, 6]]\n",
    "print(A)\n",
    "print(len(A))"
   ]
  },
  {
   "cell_type": "code",
   "execution_count": null,
   "metadata": {},
   "outputs": [],
   "source": [
    "# range : 연속된 숫자를 생성\n",
    "a = list(range(10))\n",
    "print(a)\n",
    "\n",
    "b=list(range(2, 7))\n",
    "print(b)\n",
    "\n",
    "c=list(range(3, 9, 2))\n",
    "print(c)\n",
    "\n",
    "d=list(range(10, 0, -1))\n",
    "print(d)"
   ]
  },
  {
   "cell_type": "code",
   "execution_count": null,
   "metadata": {},
   "outputs": [],
   "source": [
    "print(a)\n",
    "dir()"
   ]
  },
  {
   "cell_type": "code",
   "execution_count": null,
   "metadata": {},
   "outputs": [],
   "source": []
  }
 ],
 "metadata": {
  "kernelspec": {
   "display_name": "base",
   "language": "python",
   "name": "python3"
  },
  "language_info": {
   "codemirror_mode": {
    "name": "ipython",
    "version": 3
   },
   "file_extension": ".py",
   "mimetype": "text/x-python",
   "name": "python",
   "nbconvert_exporter": "python",
   "pygments_lexer": "ipython3",
   "version": "3.11.5"
  }
 },
 "nbformat": 4,
 "nbformat_minor": 2
}
