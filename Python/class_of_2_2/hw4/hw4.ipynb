{
 "cells": [
  {
   "cell_type": "code",
   "execution_count": null,
   "metadata": {},
   "outputs": [],
   "source": [
    "# 1\n",
    "\n",
    "lol = [[1,2,3],[4,5],[6,7,8,9]]\n",
    "print(lol[0])\n",
    "print(lol[2][1])\n",
    "for sub in lol:\n",
    "    for item in sub:\n",
    "        print(item, end = '')\n",
    "    print()"
   ]
  },
  {
   "cell_type": "code",
   "execution_count": null,
   "metadata": {},
   "outputs": [],
   "source": [
    "# 2\n",
    "\n",
    "a= 100\n",
    "result = 0\n",
    "for i in range(1, 3):\n",
    "    result = a >> i\n",
    "    result = result + 1\n",
    "print(result)"
   ]
  },
  {
   "cell_type": "code",
   "execution_count": null,
   "metadata": {},
   "outputs": [],
   "source": [
    "# 3\n",
    "\n",
    "a = \"REMEMBER NOVEMBER\"\n",
    "b = a[:3] + a[12:16]\n",
    "c = \"R AND %s\" % \"STR\"\n",
    "print(b+c)"
   ]
  },
  {
   "cell_type": "code",
   "execution_count": null,
   "metadata": {},
   "outputs": [],
   "source": [
    "# 4\n",
    "\n",
    "lis = [20, 10, 30, 50, 40]\n",
    "for j in range(0, len(lis) - 1):\n",
    "    for k in range(0, (len(lis) -1 - j)):\n",
    "        if lis[k+1] > lis[k]: \n",
    "            lis[k], lis[k+1] = lis[k+1], lis[k]\n",
    "print(lis)"
   ]
  },
  {
   "cell_type": "code",
   "execution_count": null,
   "metadata": {},
   "outputs": [],
   "source": [
    "# 5\n",
    "\n",
    "mylist = [1, 2, 3, 4, 5, 6, 7, 8, 9, 10]\n",
    "print([-i if 3 <= i <=8 else i for i in mylist])"
   ]
  },
  {
   "cell_type": "code",
   "execution_count": null,
   "metadata": {},
   "outputs": [],
   "source": [
    "# 6\n",
    "\n",
    "def fac(x):\n",
    "    if x == 1:\n",
    "        return 1\n",
    "    else:\n",
    "        result = 1  # Initialize result to 1\n",
    "        for i in range(1, x + 1):  # Fix the range and start from 1\n",
    "            result *= i\n",
    "        return result\n",
    "\n",
    "inp = int(input(\"정수를 입력하세요: \"))\n",
    "re = fac(inp)\n",
    "print(re)"
   ]
  },
  {
   "cell_type": "code",
   "execution_count": null,
   "metadata": {},
   "outputs": [],
   "source": [
    "# 7\n",
    "\n",
    "def solution(arr) :\n",
    "    left = 0\n",
    "    right = len(arr) - 1\n",
    "    while left < right:\n",
    "        temp_right =  arr[right]\n",
    "        temp_left = arr[left]\n",
    "        arr[left] = temp_right\n",
    "        arr[right] = temp_left\n",
    "        left += 1\n",
    "        right -= 1\n",
    "    return arr\n",
    "\n",
    "arr = [1, 4, 2, 3]\n",
    "ret = solution(arr)\n",
    "print(ret)"
   ]
  },
  {
   "cell_type": "code",
   "execution_count": null,
   "metadata": {},
   "outputs": [],
   "source": [
    "# 8\n",
    "\n",
    "def total(amount):\n",
    "    tax = amount * 0.095\n",
    "    tip = amount * 0.10\n",
    "    return amount + tax + tip\n",
    "\n",
    "amount = 5000\n",
    "print(\"Total :\", total(amount))\n"
   ]
  },
  {
   "cell_type": "code",
   "execution_count": null,
   "metadata": {},
   "outputs": [],
   "source": [
    "# 9\n",
    "\n",
    "def find_longest_word(words):\n",
    "    a = 0\n",
    "    for i in words:\n",
    "        if len(i) > a:\n",
    "            a = len(i)\n",
    "            b = i\n",
    "    return b\n",
    "\n",
    "words = ['아이언맨', '헐크', '스파이더맨']\n",
    "print(find_longest_word(words))"
   ]
  },
  {
   "cell_type": "code",
   "execution_count": null,
   "metadata": {},
   "outputs": [],
   "source": [
    "# 10\n",
    "\n",
    "month = ['1월', '2월', '4월', '5월', '6월', '7월', '8월',\n",
    "        '9월', '10월', '11월', '12월']\n",
    "month.insert(2,'3월')   # 리스트명.insert(위치, 입력 값)\n",
    "print(month)"
   ]
  },
  {
   "cell_type": "code",
   "execution_count": null,
   "metadata": {},
   "outputs": [],
   "source": [
    "# 11\n",
    "\n",
    "s1 = {1, 3, 5}\n",
    "s2 = {1, 2, 3, 4, 5, 6, 7}\n",
    "print(s1 & s2)\n",
    "print(s2.difference(s1))"
   ]
  },
  {
   "cell_type": "code",
   "execution_count": null,
   "metadata": {},
   "outputs": [],
   "source": [
    "# 12\n",
    "\n",
    "class Rocket():\n",
    "    def __init__(self):\n",
    "        self.x = 0\n",
    "        self.y = 1\n",
    "        \n",
    "    def mouve_up(self):\n",
    "        self.y += 5\n",
    "        \n",
    "my_rocket = Rocket()\n",
    "print(\"로켓의 높이 : \", my_rocket.y)\n",
    "my_rocket.mouve_up()\n",
    "print(\"로켓의 높이 : \", my_rocket.y)"
   ]
  },
  {
   "cell_type": "code",
   "execution_count": 17,
   "metadata": {},
   "outputs": [],
   "source": [
    "# 13\n",
    "\n",
    "class Person():\n",
    "    pass\n",
    "class Student(Person):\n",
    "    pass"
   ]
  },
  {
   "cell_type": "code",
   "execution_count": 2,
   "metadata": {},
   "outputs": [
    {
     "name": "stdout",
     "output_type": "stream",
     "text": [
      "(2, 6, 3)\n"
     ]
    }
   ],
   "source": [
    "# 14\n",
    "            \n",
    "class Point(object):\n",
    "    def __init__(self, x, y):\n",
    "        self.x = x*2\n",
    "        self.y = y*3\n",
    "\n",
    "    def __str__(self):\n",
    "        return \"(%d, %d)\" % (self.x, self.y)\n",
    "\n",
    "class Point3D(Point):\n",
    "    def __init__(self, x, y, z):\n",
    "        super().__init__(x, y)\n",
    "        self.z = z\n",
    "\n",
    "    def __str__(self):\n",
    "        return \"(%d, %d, %d)\" % (self.x, self.y, self.z)\n",
    "\n",
    "my_point = Point3D(1, 2, 3)\n",
    "print(my_point)"
   ]
  },
  {
   "cell_type": "code",
   "execution_count": null,
   "metadata": {},
   "outputs": [],
   "source": [
    "# 15\n",
    "\n",
    "myDict = {\"옷\" : 100, \"컴퓨터 \" : 2000, \"모니터\" : 320}\n",
    "total = sum(myDict.values()) # sum(튜플명.values())\n",
    "print(\"총합계 = \", total)"
   ]
  },
  {
   "cell_type": "code",
   "execution_count": null,
   "metadata": {},
   "outputs": [],
   "source": [
    "# 16\n",
    "\n",
    "f = open(\"D:/Coding/Python/class_of_2_2/contents_of_class/ch9/testfiles/data.txt\", \"r\")\n",
    "for i in range(3):\n",
    "    print(f.readline())\n",
    "f.close()"
   ]
  },
  {
   "cell_type": "code",
   "execution_count": null,
   "metadata": {},
   "outputs": [],
   "source": [
    "# 17\n",
    "\n",
    "try :\n",
    "    infb = open(\"c:/npfile\", \"r\")\n",
    "    value = 100 / 0\n",
    "    \n",
    "except IOError:\n",
    "    print(\"파일 입출력 오류입니다.\")\n",
    "    \n",
    "except ZeroDivisionError:\n",
    "    print(\"0으로 나눴습니다.\")\n",
    "print(\"프로그램 종료!\")"
   ]
  },
  {
   "cell_type": "code",
   "execution_count": 1,
   "metadata": {},
   "outputs": [
    {
     "name": "stdout",
     "output_type": "stream",
     "text": [
      "[0 1 2 3 4 5 6 7 8 9]\n",
      "[ 0  1  2  3  4 -5 -6 -7 -8  9]\n"
     ]
    }
   ],
   "source": [
    "# 18\n",
    "\n",
    "import numpy as np\n",
    "x = np.arange(10)\n",
    "print(x)\n",
    "x[(x >= 5) & (x <= 8)] *= -1\n",
    "print(x)"
   ]
  },
  {
   "cell_type": "code",
   "execution_count": null,
   "metadata": {},
   "outputs": [],
   "source": [
    "# 19\n",
    "\n",
    "import numpy as np\n",
    "first_matrix = np.array([[1, 2, 3], [4, 5, 6]])\n",
    "second_matrix = np.array([1, 2, 3])\n",
    "print(first_matrix + second_matrix)"
   ]
  },
  {
   "cell_type": "code",
   "execution_count": null,
   "metadata": {},
   "outputs": [],
   "source": [
    "# 20\n",
    "\n",
    "import numpy as np\n",
    "x  = np.array([[1, 2, 3], [4, 5, 6], [7, 8, 9]])\n",
    "print(np.sum(x))\n",
    "print(np.sum(x, axis = 0))\n",
    "print(np.sum(x, axis = 1))"
   ]
  },
  {
   "cell_type": "code",
   "execution_count": null,
   "metadata": {},
   "outputs": [],
   "source": [
    "# 21\n",
    "\n",
    "import numpy as np\n",
    "first_matrix=np.array([[1,2, 3], [4, 5, 6]])\n",
    "second_matrix=np.array([1, 2, 3])\n",
    "print(first_matrix + second_matrix)"
   ]
  },
  {
   "cell_type": "code",
   "execution_count": null,
   "metadata": {},
   "outputs": [],
   "source": [
    "# 22\n",
    "\n",
    "import matplotlib.pyplot as plt\n",
    "import numpy as np\n",
    "\n",
    "x = np.linspace(-2*np.pi, 2*np.pi)\n",
    "y = np.sin(x)\n",
    "plt.plot(x, y)\n",
    "plt.show()"
   ]
  },
  {
   "cell_type": "code",
   "execution_count": null,
   "metadata": {},
   "outputs": [],
   "source": [
    "# 23\n",
    "\n",
    "result = 0\n",
    "for i in range(100):\n",
    "    if i % 2  == 1:\n",
    "        result += i\n",
    "    else:\n",
    "        result -= i\n",
    "print(result)"
   ]
  },
  {
   "cell_type": "code",
   "execution_count": 19,
   "metadata": {},
   "outputs": [
    {
     "name": "stdout",
     "output_type": "stream",
     "text": [
      "[0, 0, 0, 0, 0]\n",
      "[0, 0, 0, 0, 0]\n",
      "[2, 0, 0, 0, 0]\n",
      "[2, 3, 0, 0, 0]\n",
      "[2, 3, 4, 0, 0]\n"
     ]
    }
   ],
   "source": [
    "# 24\n",
    "\n",
    "rows = 5\n",
    "cols = 5\n",
    "array = []\n",
    "\n",
    "# Create an empty matrix\n",
    "for i in range(rows):\n",
    "    row = []\n",
    "    for _ in range(cols):\n",
    "        row.append(0)\n",
    "    array.append(row)\n",
    "\n",
    "# Fill the triangular part with values\n",
    "for i in range(rows):\n",
    "    for j in range(i-1):\n",
    "        array[i][j] = j + 2\n",
    "\n",
    "# Print the triangular matrix\n",
    "for row in array:\n",
    "    print(row)"
   ]
  },
  {
   "cell_type": "code",
   "execution_count": null,
   "metadata": {},
   "outputs": [],
   "source": [
    "# 25\n",
    "\n",
    "even_sum = 0\n",
    "odd_sum = 0\n",
    "even_and_multiple_of_10_sum = 0\n",
    "\n",
    "for num in range(100, 501):\n",
    "    if num % 2 == 0:\n",
    "        even_sum += num\n",
    "        if num % 10 == 0:\n",
    "            even_and_multiple_of_10_sum += num\n",
    "    else:\n",
    "        odd_sum += num\n",
    "    \n",
    "print(\"짝수의 합계\", even_sum)\n",
    "print(\"홀수의 합계 :\", odd_sum)\n",
    "print(\"짝수이면서 10의 배수인 수의 합계 :\",\n",
    "      even_and_multiple_of_10_sum)"
   ]
  },
  {
   "cell_type": "code",
   "execution_count": null,
   "metadata": {},
   "outputs": [],
   "source": [
    "# 25\n",
    "\n",
    "even_sum = 0\n",
    "odd_sum = 0\n",
    "even_and_multiple_of_10_sum = 0\n",
    "\n",
    "for num in range(100, 501):\n",
    "    if num % 2 == 0 and num % 10 == 0:\n",
    "        even_and_multiple_of_10_sum += num\n",
    "        even_sum += num\n",
    "\n",
    "    elif num % 2 == 0:\n",
    "        even_sum += num\n",
    "    else:\n",
    "        odd_sum += num\n",
    "    \n",
    "print(\"짝수의 합계 : \", even_sum)\n",
    "print(\"홀수의 합계 : \",odd_sum)\n",
    "print(\"짝수이면서 10의 배수인 수의 합계 :\",\n",
    "      even_and_multiple_of_10_sum)"
   ]
  },
  {
   "cell_type": "code",
   "execution_count": null,
   "metadata": {},
   "outputs": [],
   "source": []
  }
 ],
 "metadata": {
  "kernelspec": {
   "display_name": "Python 3",
   "language": "python",
   "name": "python3"
  },
  "language_info": {
   "codemirror_mode": {
    "name": "ipython",
    "version": 3
   },
   "file_extension": ".py",
   "mimetype": "text/x-python",
   "name": "python",
   "nbconvert_exporter": "python",
   "pygments_lexer": "ipython3",
   "version": "3.11.5"
  }
 },
 "nbformat": 4,
 "nbformat_minor": 2
}
