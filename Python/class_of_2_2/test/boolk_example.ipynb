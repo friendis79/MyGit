{
 "cells": [
  {
   "cell_type": "code",
   "execution_count": 1,
   "metadata": {},
   "outputs": [
    {
     "name": "stdout",
     "output_type": "stream",
     "text": [
      "5050\n"
     ]
    }
   ],
   "source": [
    "# 9 - 11\n",
    "\n",
    "def addNUmber (num) :\n",
    "    if num <= 1:\n",
    "        return num\n",
    "    else :\n",
    "        return num + addNUmber(num - 1)\n",
    "    \n",
    "print(addNUmber(100))"
   ]
  },
  {
   "cell_type": "code",
   "execution_count": 1,
   "metadata": {},
   "outputs": [],
   "source": [
    "# 10 - 1\n",
    "\n",
    "from tkinter import *\n",
    "\n",
    "window = Tk()\n",
    "window.title(\"연습문제\")\n",
    "window.geometry(\"400x400\")\n",
    "window.resizable(width=FALSE, height=FALSE)\n",
    "\n",
    "label1 = Label(window, text = \"I'm learning\", font = (\"궁서체\", 15), \n",
    "               fg = \"red\")\n",
    "label1.pack()\n",
    "window.mainloop()"
   ]
  },
  {
   "cell_type": "code",
   "execution_count": 2,
   "metadata": {},
   "outputs": [],
   "source": [
    "# 10 - 2\n",
    "\n",
    "from tkinter import *\n",
    "from tkinter import messagebox\n",
    "\n",
    "def click_button():\n",
    "    messagebox.showinfo(\"Button\", \"Clicked button\")\n",
    "\n",
    "window = Tk()\n",
    "button1 = Button(window, text = \"Here\", command=click_button)\n",
    "button1.pack()\n",
    "\n",
    "window.mainloop()"
   ]
  },
  {
   "cell_type": "code",
   "execution_count": 3,
   "metadata": {},
   "outputs": [],
   "source": [
    "# 10 -3\n",
    "\n",
    "from tkinter import *\n",
    "window = Tk()\n",
    "\n",
    "def rd0_change():\n",
    "    if var.get() == 1:\n",
    "        Label1.configure(text=\"Venz\")\n",
    "    else:\n",
    "        Label1.configure(text=\"Porsche\")\n",
    "\n",
    "var = IntVar()\n",
    "\n",
    "rdo1 = Radiobutton(window, text=\"Venz\", variable=var, value=1, command=rd0_change)\n",
    "rdo2 = Radiobutton(window, text=\"Porsche\", variable=var, value=2, command=rd0_change)\n",
    "\n",
    "Label1 = Label(window, text=\"Selected Car\", fg=\"red\")\n",
    "\n",
    "rdo1.pack()\n",
    "rdo2.pack()\n",
    "Label1.pack()\n",
    "\n",
    "window.mainloop()\n",
    "        "
   ]
  },
  {
   "cell_type": "code",
   "execution_count": 4,
   "metadata": {},
   "outputs": [],
   "source": [
    "#10 - 4\n",
    "\n",
    "from tkinter import *\n",
    "\n",
    "window = Tk()\n",
    "\n",
    "Button1 = Button(window, text = \"버튼 1\")\n",
    "button2 = Button(window, text = \"버튼 2\")\n",
    "button3 = Button(window, text = \"버튼 3\")\n",
    "\n",
    "\"\"\" Button1.pack(side = LEFT)\n",
    "button2.pack(side = LEFT)\n",
    "button3.pack(side = LEFT) \"\"\"\n",
    "\n",
    "\"\"\" Button1.pack(side = RIGHT)\n",
    "button2.pack(side = RIGHT)\n",
    "button3.pack(side = RIGHT) \"\"\"\n",
    "\n",
    "\"\"\" Button1.pack(side = TOP)\n",
    "button2.pack(side = TOP)\n",
    "button3.pack(side = TOP) \"\"\"\n",
    "\n",
    "\"\"\" Button1.pack(side = BOTTOM)\n",
    "button2.pack(side = BOTTOM)\n",
    "button3.pack(side = BOTTOM) \"\"\"\n",
    "\n",
    "window.mainloop()"
   ]
  },
  {
   "cell_type": "code",
   "execution_count": 12,
   "metadata": {},
   "outputs": [],
   "source": [
    "# 10 - 5\n",
    "\n",
    "from tkinter import *\n",
    "from time import *\n",
    "\n",
    "fnameList = [\"jeju1.gif\", \"jeju2.gif\", \"jeju3.gif\", \"jeju4.gif\", \"jeju5.gif\"\n",
    "            , \"jeju6.gif\", \"jeju7.gif\", \"jeju8.gif\", \"jeju9.gif\"]\n",
    "\n",
    "num = 0\n",
    "\n",
    "def clickNext() :\n",
    "    global num\n",
    "    num = (num+1) % len(fnameList)\n",
    "    pLabel.config(text=fnameList[num])\n",
    "    \n",
    "def clickPrev():\n",
    "    global num\n",
    "    num = (num+1) % len(fnameList)\n",
    "    pLabel.config(text=fnameList[num])\n",
    "    \n",
    "window = Tk()\n",
    "window.geometry(\"700x100\")\n",
    "\n",
    "btnPrev = Button(window, text=\"<< 이전\", command=clickPrev)\n",
    "btnNext = Button(window, text=\">> 다음\", command=clickNext)\n",
    "pLabel = Label(window, text=\"파일명\", font=(\"궁서체\", 20), fg=\"blue\")\n",
    "\n",
    "btnPrev.place(x=150, y=10)\n",
    "btnNext.place(x=500, y=10)\n",
    "pLabel.place(x=300, y=10)\n",
    "\n",
    "window.mainloop()\n"
   ]
  },
  {
   "cell_type": "code",
   "execution_count": 13,
   "metadata": {},
   "outputs": [],
   "source": [
    "# 10 - 7\n",
    "\n",
    "from tkinter import *\n",
    "window = Tk()\n",
    "\n",
    "def clickMouse(event):\n",
    "    txt = str(event.y) + str(event.x) + \"에서 클릭됨\"\n",
    "    Label1.configure(text=txt)\n",
    "    \n",
    "window.geometry(\"400x400\")\n",
    "Label1 = Label(window, text = \"this point cahnge\")\n",
    "window.bind(\"<Button>\", clickMouse)\n",
    "Label1.pack(expand =1, anchor = CENTER)\n",
    "window.mainloop()"
   ]
  },
  {
   "cell_type": "code",
   "execution_count": null,
   "metadata": {},
   "outputs": [],
   "source": [
    "# 10 - 9\n",
    "\n",
    "from tkinter import *\n",
    "window = Tk()\n",
    "\n",
    "totalMenu = Menu(window)\n",
    "window.config(menu = totalMenu)\n",
    "upMenu = Menu(totalMenu)\n",
    "\n",
    "totalMenu.add_cascade(label=\"상위 메뉴\", menu=upMenu)\n",
    "upMenu.add_command(label=\"하위 메뉴 1\", command=lambda: print(\"하위 메뉴 1 선택\"))\n",
    "upMenu.add_command(label=\"하위 메뉴 2\", command=lambda: print(\"하위 메뉴 2 선택\"))\n",
    "\n",
    "window.mainloop()"
   ]
  },
  {
   "cell_type": "code",
   "execution_count": null,
   "metadata": {},
   "outputs": [],
   "source": [
    "# 10- 11\n",
    "\n",
    "try :\n",
    "    infile = open(\"D:/Coding/Python/class_of_2_2/contents_of_class/ch9/testfiles/data3.txt\", \"r\")\n",
    "    value = 100 /0\n",
    "    \n",
    "except IOError:\n",
    "    print(\"파일 입출력 오류\")\n",
    "\n",
    "except ZeroDivisionError :\n",
    "    print(\"0으로 나눔\")\n",
    "\n",
    "print(\"프로그램 종료\")"
   ]
  },
  {
   "cell_type": "code",
   "execution_count": null,
   "metadata": {},
   "outputs": [],
   "source": [
    "# 11 - 10\n",
    "\n",
    "class SuperClass :\n",
    "    def method(self): \n",
    "        raise NotImplementedError()\n",
    "        \n",
    "class SubClass(SuperClass) :\n",
    "    pass\n",
    "\n",
    "sub = SubClass()\n",
    "sub.method()"
   ]
  },
  {
   "cell_type": "code",
   "execution_count": 1,
   "metadata": {},
   "outputs": [],
   "source": [
    "# 11 - 11\n",
    "\n",
    "import multiprocessing\n",
    "import time\n",
    "\n",
    "class RunningHorse :\n",
    "    horseName = ''\n",
    "    def __init__(self, name) :\n",
    "        self.horseName = name\n",
    "    \n",
    "    def runHorse(self) :\n",
    "        for _ in range(0, 3):\n",
    "            horseStr = self.horseName + '~~ Running. \\n'\n",
    "            print(horseStr, end  = '')\n",
    "            time.sleep(0.1)\n",
    "            \n",
    "if __name__ == \"__main__\":\n",
    "    horse1 = RunningHorse('@얼룩말')\n",
    "    horse2 = RunningHorse('$조랑말')\n",
    "    \n",
    "    mp1 = multiprocessing.Process(target=horse1.runHorse)\n",
    "    mp2 = multiprocessing.Process(target=horse2.runHorse)\n",
    "    \n",
    "    mp1.start()\n",
    "    mp2.start()\n",
    "    \n",
    "    mp1.join()\n",
    "    mp2.join()\n",
    "        "
   ]
  },
  {
   "cell_type": "code",
   "execution_count": 64,
   "metadata": {},
   "outputs": [
    {
     "name": "stdout",
     "output_type": "stream",
     "text": [
      "@얼룩말\n",
      "#조랑말\n"
     ]
    },
    {
     "name": "stdout",
     "output_type": "stream",
     "text": [
      "@얼룩말\n",
      "#조랑말\n",
      "@얼룩말\n",
      "#조랑말\n"
     ]
    }
   ],
   "source": [
    "# 11 - 12\n",
    "\n",
    "import threading\n",
    "import time\n",
    "\n",
    "class RunningHorse:\n",
    "    horseName = ''\n",
    "    def __init__(self, name):\n",
    "        self.horseName = name\n",
    "        \n",
    "    def runHorse(self):\n",
    "        for _ in range(0, 3):\n",
    "            print(self.horseName)\n",
    "            time.sleep(0.1)     # 0.1s stop\n",
    "            \n",
    "#main code\n",
    "horse1= RunningHorse(\"@얼룩말\")        \n",
    "horse2= RunningHorse(\"#조랑말\")\n",
    "\n",
    "th1 = threading.Thread(target= horse1.runHorse)\n",
    "th2 = threading.Thread(target= horse2.runHorse)\n",
    "\n",
    "th1.start()\n",
    "th2.start()"
   ]
  }
 ],
 "metadata": {
  "kernelspec": {
   "display_name": "Python 3",
   "language": "python",
   "name": "python3"
  },
  "language_info": {
   "codemirror_mode": {
    "name": "ipython",
    "version": 3
   },
   "file_extension": ".py",
   "mimetype": "text/x-python",
   "name": "python",
   "nbconvert_exporter": "python",
   "pygments_lexer": "ipython3",
   "version": "3.12.0"
  }
 },
 "nbformat": 4,
 "nbformat_minor": 2
}
