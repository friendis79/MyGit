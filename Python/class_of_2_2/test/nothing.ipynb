{
 "cells": [
  {
   "cell_type": "code",
   "execution_count": 2,
   "metadata": {},
   "outputs": [
    {
     "name": "stdout",
     "output_type": "stream",
     "text": [
      "5의 2진수 --> [1, 0, 1]\n"
     ]
    }
   ],
   "source": [
    "# 7 - 17\n",
    "\n",
    "def convert (num):\n",
    "    binary = []\n",
    "    while num > 0:\n",
    "        remainder = num % 2\n",
    "        binary.insert(0, remainder)\n",
    "        num //= 2\n",
    "    return binary\n",
    "\n",
    "a = int(input(\"Enter : \"))\n",
    "\n",
    "result = convert(a)\n",
    "print(f\"{a}의 2진수 --> {result}\")"
   ]
  },
  {
   "cell_type": "code",
   "execution_count": 3,
   "metadata": {},
   "outputs": [
    {
     "name": "stdout",
     "output_type": "stream",
     "text": [
      "매개변수가 2개인 함수를 호출한 결과 =? 40\n",
      "매개변수가 3개인 함수를 호출한 결과 =? 100\n"
     ]
    }
   ],
   "source": [
    "# 7 - 21\n",
    "\n",
    "def get_sum(*args): # *args 사용시 인수의 개수를 마음대로 설정 可\n",
    "    sum = 0\n",
    "    for num in args :\n",
    "        sum += num\n",
    "    return sum\n",
    "\n",
    "hap = 0\n",
    "hap = get_sum(10, 30)\n",
    "print(f\"매개변수가 2개인 함수를 호출한 결과 =? {hap}\")\n",
    "hap = get_sum(10, 30, 60)\n",
    "print(f\"매개변수가 3개인 함수를 호출한 결과 =? {hap}\")"
   ]
  },
  {
   "cell_type": "code",
   "execution_count": 4,
   "metadata": {},
   "outputs": [
    {
     "name": "stdout",
     "output_type": "stream",
     "text": [
      "트와이스 --> 9명입니다.\n",
      "소녀시대 --> 7명입니다.\n",
      "걸스데이 --> 4명입니다.\n",
      "블랙핑크 --> 4명입니다.\n"
     ]
    }
   ],
   "source": [
    "# 7- 22\n",
    "\n",
    "def dic_func(**kwards): # **kwargs 사용 시 가변길이 키워드 인수를 함수에 전달 可\n",
    "    for k in kwards.keys():\n",
    "        print(f\"{k} --> {kwards[k]}명입니다.\")\n",
    "        \n",
    "dic_func(트와이스 = 9, 소녀시대 = 7, 걸스데이 = 4, 블랙핑크 = 4)"
   ]
  },
  {
   "cell_type": "code",
   "execution_count": 5,
   "metadata": {},
   "outputs": [
    {
     "name": "stdout",
     "output_type": "stream",
     "text": [
      "전체 합 = 60\n",
      "전체 합 = 210\n"
     ]
    }
   ],
   "source": [
    "# Packing (7 - 23)\n",
    "\n",
    "def sum_all(*numbers):  # 인자로부터 여러 개의 값을 하나의 객체로 합쳐서 받을 수 있도록 함\n",
    "    result = 0\n",
    "    for n in numbers :\n",
    "        result += n\n",
    "    return result\n",
    "\n",
    "hap = sum_all(10, 20, 30)\n",
    "print(f\"전체 합 = {hap}\")\n",
    "hap = sum_all(10, 20, 30, 40, 50, 60)\n",
    "print(f\"전체 합 = {hap}\")"
   ]
  },
  {
   "cell_type": "code",
   "execution_count": 7,
   "metadata": {},
   "outputs": [
    {
     "name": "stdout",
     "output_type": "stream",
     "text": [
      "전체 합 : 60\n",
      "전체 합 : 100\n"
     ]
    }
   ],
   "source": [
    "# Unpacking (7 - 24)\n",
    "\n",
    "def sum (a, b, c):  # unpacking시 인수 앞에 *을 붙임 ※ 매개변수의 개수가 다르면 에러 발생\n",
    "    return a+b+c\n",
    "\n",
    "numbers = [10, 20, 30]\n",
    "hap = sum(*numbers)\n",
    "print(f\"전체 합 : {hap}\")\n",
    "\n",
    "numbers = [10, 20, 30]\n",
    "hap = sum(*numbers)\n",
    "print(f\"전체 합 : {hap}\")"
   ]
  },
  {
   "cell_type": "code",
   "execution_count": 14,
   "metadata": {},
   "outputs": [
    {
     "name": "stdout",
     "output_type": "stream",
     "text": [
      "선택된 로또 번호 :  10 18 22 27 36 41 "
     ]
    }
   ],
   "source": [
    "# 1~ 45 난수 출력 (7- 25)\n",
    "\n",
    "import random\n",
    "\n",
    "def getNumbers() :\n",
    "    num = random.randint(1, 46)\n",
    "    for i in range(6) :\n",
    "        while num in lotto :\n",
    "            num = random.randint(1, 46)\n",
    "        lotto.append(num)\n",
    "\n",
    "lotto = []\n",
    "num = 0\n",
    "getNumbers()\n",
    "lotto.sort()\n",
    "print(\"선택된 로또 번호 : \", end = ' ')\n",
    "for i in range(6):\n",
    "    print(f\"{lotto[i]}\", end = ' ')\n"
   ]
  },
  {
   "cell_type": "code",
   "execution_count": 16,
   "metadata": {},
   "outputs": [
    {
     "name": "stdout",
     "output_type": "stream",
     "text": [
      "30\n"
     ]
    }
   ],
   "source": [
    "# lambda func. (7 - 29)\n",
    "\n",
    "f = lambda x, y : x+y\n",
    "print(f(10, 20))"
   ]
  },
  {
   "cell_type": "code",
   "execution_count": 38,
   "metadata": {},
   "outputs": [
    {
     "name": "stdout",
     "output_type": "stream",
     "text": [
      "홍길동 112201\n",
      "박길동 112202\n",
      "정길동 112203\n",
      "박길동 112213\n"
     ]
    }
   ],
   "source": [
    "# 클래스 변수 (8 - 24)\n",
    "\n",
    "class BankAccount :\n",
    "    accNum = 112200\n",
    "    def __init__(self, name, balance):\n",
    "        self.name = name\n",
    "        self.__balance = balance\n",
    "        BankAccount.accNum += 1\n",
    "        \n",
    "Hong = BankAccount(\"홍길동\", 3000)\n",
    "print(Hong.name, Hong.accNum)\n",
    "Park = BankAccount(\"박길동\", 5000)\n",
    "print(Park.name, Park.accNum)\n",
    "Park.accNum = 112213    # 값 변경\n",
    "Jeong = BankAccount(\"정길동\", 7000)\n",
    "print(Jeong.name, Jeong.accNum)\n",
    "print(Park.name, Park.accNum)\n"
   ]
  },
  {
   "cell_type": "code",
   "execution_count": null,
   "metadata": {},
   "outputs": [],
   "source": [
    "# 메서드 오버라이딩\n",
    "\n",
    "import turtle\n",
    "t=turtle.Turtle()\n",
    "t.shape(\"turtle\")\n",
    "class Shape :\n",
    "    def __init__(self, length, angle) :\n",
    "        self.length = length\n",
    "        self.angle = angle\n",
    "    def draw(self) :\n",
    "        turtle.title(\"도형 그리기\")\n",
    "\n",
    "class Rectangle(Shape) :\n",
    "    def __init__(self, length, angle) :\n",
    "        Shape.__init__(self, length, angle)\n",
    "    def draw(self) :\n",
    "        t.penup()\n",
    "        t.right(135)\n",
    "        t.forward(self.length)\n",
    "        t.left(135)\n",
    "        t.pendown()\n",
    "        Shape.draw(self)\n",
    "        for i in range(4) :\n",
    "            t.forward(self.length*2**(1/2))\n",
    "            t.left(self.angle)\n",
    "        t.penup()\n",
    "        t.home()\n",
    "            \n",
    "class Circle(Shape) :\n",
    "    def __init__(self, length, angle) :\n",
    "         Shape.__init__(self, length, angle)\n",
    "    def draw(self) :\n",
    "        Shape.draw(self)\n",
    "        t.penup()\n",
    "        t.right(90)\n",
    "        t.forward(self.length)\n",
    "        t.left(90)\n",
    "        t.pendown()        \n",
    "        t.circle(self.length)\n",
    "        t.penup()\n",
    "        t.home()\n",
    "        \n",
    "class Hexagon(Shape) :\n",
    "    def __init__(self, length, angle) :\n",
    "        Shape.__init__(self, length, angle)\n",
    "    def draw(self) :\n",
    "        Shape.draw(self)\n",
    "        t.right(90)\n",
    "        t.forward(self.length)\n",
    "        t.left(120)\n",
    "        t.pendown()\n",
    "        for i in range(6) :\n",
    "            t.forward(self.length)\n",
    "            t.left(self.angle) \n",
    "        t.penup()\n",
    "        t.home()\n",
    "            \n",
    "circle = Circle(100, 0)\n",
    "circle.draw()\n",
    "rectangle = Rectangle(100, 90)\n",
    "rectangle.draw()\n",
    "hexagon = Hexagon(100, 60)\n",
    "hexagon.draw()\n",
    "turtle.done()\n",
    "turtle.bye()"
   ]
  },
  {
   "cell_type": "code",
   "execution_count": 28,
   "metadata": {},
   "outputs": [
    {
     "name": "stdout",
     "output_type": "stream",
     "text": [
      "세 개의 양의 정수를 입력하시오.\n",
      "세 수의 합은 홀수이고, 그 합은 15이다.\n"
     ]
    }
   ],
   "source": [
    "# 과제 3 - 1 (다시 해보세요)\n",
    "\n",
    "print(\"세 개의 양의 정수를 입력하시오.\")\n",
    "\n",
    "nlist = []\n",
    "\n",
    "for i in range(3):\n",
    "    nlist.append(int(input(f\"{i+1}번 째 양의 정수 : \")))\n",
    "\n",
    "snumm = sum(nlist)\n",
    "\n",
    "if snumm % 2 == 0:\n",
    "    print(f\"세 수의 합은 짝수이고, 가장 큰 수는 {max.nlist}이다.\")\n",
    "    \n",
    "elif snumm % 2 == 1:\n",
    "    print(f\"세 수의 합은 홀수이고, 그 합은 {snumm}이다.\")\n",
    "    \n"
   ]
  },
  {
   "cell_type": "code",
   "execution_count": 42,
   "metadata": {},
   "outputs": [
    {
     "name": "stdout",
     "output_type": "stream",
     "text": [
      "세 개 입\n",
      "세 수의 합은 홀수이고, 그 합은 173 이다\n"
     ]
    }
   ],
   "source": [
    "print(\"세 개의 양의 정수를 입력하시오.\")\n",
    "\n",
    "num = []\n",
    "\n",
    "for i in range(3):\n",
    "    num.append(int(input(str(i+1) + \"번 째 정수 : \")))\n",
    "    \n",
    "snum = sum(num)\n",
    "\n",
    "if snum % 2 == 0:\n",
    "    print(\"세 수의 합은 짝수이고, 가장 큰 수는 %d 이다.\" % max(num))\n",
    "    \n",
    "elif snum % 2 == 1:\n",
    "    print(\"세 수의 합은 홀수이고, 그 합은 %d 이다\" % snum)"
   ]
  },
  {
   "cell_type": "code",
   "execution_count": 13,
   "metadata": {},
   "outputs": [
    {
     "name": "stdout",
     "output_type": "stream",
     "text": [
      "두 점 사이의 거리 구하기\n",
      "(100, 100)과 (200, 200)사의 거리는 141.42이다.\n"
     ]
    }
   ],
   "source": [
    "# 과제 3 -2 (확인)\n",
    "\n",
    "print(\"두 점 사이의 거리 구하기\")\n",
    "\n",
    "a1, b1 = map(int, input(\"첫 번 째 점의 x, y 좌표 입력 : \").split())\n",
    "a2, b2 = map(int, input(\"두 번 째 점의 x, y 좌표 입력 : \").split())\n",
    "\n",
    "distance = ((a2 - a1)**2 + (b2 - b1)**2)**0.5\n",
    "\n",
    "print(f\"({a1}, {b1})과 ({a2}, {b2})사의 거리는 {distance:.2f}이다.\")"
   ]
  },
  {
   "cell_type": "code",
   "execution_count": 47,
   "metadata": {},
   "outputs": [
    {
     "name": "stdout",
     "output_type": "stream",
     "text": [
      "두 점 사이의 거리 구하기\n",
      "(100, 100)과 (200, 200)사이의 거리는 141.42 이다.\n"
     ]
    }
   ],
   "source": [
    "print(\"두 점 사이의 거리 구하기\")\n",
    "\n",
    "a1, b1 = map(int, input(\"첫 번 째 점의 x, y 좌표 입력 : \").split())\n",
    "a2, b2 = map(int, input(\"두 번 째 점의 x, y 좌표 입력 : \").split())\n",
    "\n",
    "distance = ((a2 - a1)**2 + (b2 - b1)**2)**0.5\n",
    "\n",
    "print(\"(%d, %d)과 (%d, %d)사이의 거리는 %.2f 이다.\" % (a1, b1, a2, b2, distance))"
   ]
  },
  {
   "cell_type": "code",
   "execution_count": 17,
   "metadata": {},
   "outputs": [
    {
     "name": "stdout",
     "output_type": "stream",
     "text": [
      "47\n"
     ]
    }
   ],
   "source": [
    "# 과제 3 -3 (확인)\n",
    "\n",
    "def gap_score(score_list):\n",
    "    score_list.sort()\n",
    "    return score_list[-1] - score_list[0]\n",
    "    \n",
    "    \n",
    "score_list = [45, 66, 70, 83, 50, 77, 87, 92, 73, 89]\n",
    "result = gap_score(score_list)\n",
    "print(result)"
   ]
  },
  {
   "cell_type": "code",
   "execution_count": 19,
   "metadata": {},
   "outputs": [
    {
     "name": "stdout",
     "output_type": "stream",
     "text": [
      "apple --> type is string\n",
      "5 --> type is integer\n",
      "banana --> type is string\n",
      "grape --> type is string\n",
      "3 --> type is integer\n",
      "8 --> type is integer\n",
      "6 --> type is integer\n",
      "melon --> type is string\n"
     ]
    }
   ],
   "source": [
    "# 과제 3 -4 (확인) -> str, int!!\n",
    "\n",
    "mixlist = ['apple', 5, 'banana', 'grape', 3, 8, 6, 'melon']\n",
    "\n",
    "for i in mixlist:\n",
    "    if type(i) == str:\n",
    "        print(f\"{i} --> type is string\")\n",
    "        \n",
    "    elif type(i) == int:\n",
    "        print(f\"{i} --> type is integer\")"
   ]
  },
  {
   "cell_type": "code",
   "execution_count": 32,
   "metadata": {},
   "outputs": [
    {
     "name": "stdout",
     "output_type": "stream",
     "text": [
      "1 2 3 4 5 \n",
      "10 9 8 7 6 \n",
      "11 12 13 14 15 \n",
      "20 19 18 17 16 \n",
      "21 22 23 24 25 \n"
     ]
    }
   ],
   "source": [
    "# 과제 3 - 5 (다시 해보세요)\n",
    "\n",
    "n = int(input(\"n을 입력하시오 : \"))\n",
    "\n",
    "for i in range(1 , n+1):\n",
    "    if i % 2 == 0 :\n",
    "        for j in range(n, 0, -1):\n",
    "            print(f\"{(j+n*(i-1))}\", end  = ' ')\n",
    "        print()\n",
    "    \n",
    "    elif i % 2 == 1:\n",
    "        for j in range(1, n+1):\n",
    "            print(f\"{(j+n*(i-1))}\", end = ' ')\n",
    "        print()\n"
   ]
  },
  {
   "cell_type": "code",
   "execution_count": 49,
   "metadata": {},
   "outputs": [
    {
     "name": "stdout",
     "output_type": "stream",
     "text": [
      "1 2 3 \n",
      "6 5 4 \n",
      "7 8 9 \n"
     ]
    }
   ],
   "source": [
    "n = int(input(\"n을 입력하시오 : \"))\n",
    "\n",
    "for i in range(1, n+1):\n",
    "    if i % 2 == 1:\n",
    "        for j in range (1, n+1):\n",
    "            print(j+n*(i-1), end = ' ' )\n",
    "        print()\n",
    "    if i % 2 == 0:\n",
    "        for j in range (n, 0, -1):\n",
    "            print(j+n*(i-1), end = ' ')\n",
    "        print()\n"
   ]
  },
  {
   "cell_type": "code",
   "execution_count": 40,
   "metadata": {},
   "outputs": [
    {
     "name": "stdout",
     "output_type": "stream",
     "text": [
      "20\n"
     ]
    }
   ],
   "source": [
    "def fac(x):\n",
    "    if x == 1:\n",
    "        return 1\n",
    "    else :\n",
    "        return x*(x-1)\n",
    "\n",
    "inp = int(input(\"Enter : \"))\n",
    "re = fac(inp)\n",
    "print(re)"
   ]
  },
  {
   "cell_type": "code",
   "execution_count": null,
   "metadata": {},
   "outputs": [],
   "source": []
  }
 ],
 "metadata": {
  "kernelspec": {
   "display_name": "Python 3",
   "language": "python",
   "name": "python3"
  },
  "language_info": {
   "codemirror_mode": {
    "name": "ipython",
    "version": 3
   },
   "file_extension": ".py",
   "mimetype": "text/x-python",
   "name": "python",
   "nbconvert_exporter": "python",
   "pygments_lexer": "ipython3",
   "version": "3.12.0"
  }
 },
 "nbformat": 4,
 "nbformat_minor": 2
}
