{
 "cells": [
  {
   "cell_type": "code",
   "execution_count": 9,
   "metadata": {},
   "outputs": [
    {
     "name": "stdout",
     "output_type": "stream",
     "text": [
      "\n",
      " Binary :  1 1 0 0 \n",
      " Octal :  14 \n",
      " Hexadecimal :  C "
     ]
    }
   ],
   "source": [
    "# 재귀 호출 (7 - 37)\n",
    "\n",
    "def base2(n) :\n",
    "    if n < 2 :\n",
    "        print(numberChar[n], end = ' ')\n",
    "    else :\n",
    "        base2(n //2)\n",
    "        print(f\"{numberChar[n % 2]}\", end = ' ')\n",
    "        \n",
    "def base8(n) :\n",
    "    if n < 8:\n",
    "        print(numberChar[n], end = '')\n",
    "    else :\n",
    "        base8(n // 8)\n",
    "        print(f\"{numberChar[n % 8]}\", end = ' ')\n",
    "        \n",
    "def base16(n):\n",
    "    if n < 16:\n",
    "        print(numberChar[n], end = ' ')\n",
    "    else :\n",
    "        base16(n % 16)\n",
    "        print(f\"{numberChar[n % 16]}\", end = ' ')\n",
    "        \n",
    "numberChar = ['0', '1', '2', '3', '4', '5', '6', '7', '8', '9']\n",
    "numberChar += ['A', 'B', 'C', 'D', 'E', 'F']\n",
    "\n",
    "number  = int(input(f\"10진수 입력 --> \"))\n",
    "\n",
    "print(f\"\\n Binary : \", end = ' ')\n",
    "base2(number)\n",
    "print(f\"\\n Octal : \", end = ' ')\n",
    "base8(number)\n",
    "print(f\"\\n Hexadecimal : \", end = ' ')\n",
    "base16(number)"
   ]
  },
  {
   "cell_type": "code",
   "execution_count": 15,
   "metadata": {},
   "outputs": [
    {
     "name": "stdout",
     "output_type": "stream",
     "text": [
      "yes yes yes "
     ]
    }
   ],
   "source": [
    "# 부품 찾기 (7 - 38)\n",
    "\n",
    "def binary_search(array, target, start, end):\n",
    "    while start <= end:\n",
    "        mid = (start + end) // 2\n",
    "        if array[mid] == target :\n",
    "            return mid\n",
    "        elif array[mid] > target:\n",
    "            end  = mid - 1\n",
    "        else :\n",
    "            start = mid + 1\n",
    "    return None\n",
    "\n",
    "n =  int(input(\"N = \"))\n",
    "\n",
    "array = list(map(int, input(\"부품 번호 : \").split()))\n",
    "array.sort()\n",
    "\n",
    "m = int(input (\"M = \"))\n",
    "\n",
    "x = list(map(int, input(\"찾는 부품 번호 : \").split()))\n",
    "\n",
    "for i in x:\n",
    "    result = binary_search(array, i, 0, n-1)\n",
    "    if result != None:\n",
    "        print(\"yes\", end = ' ')\n",
    "    else :\n",
    "        print(\"no\", end = ' ')"
   ]
  }
 ],
 "metadata": {
  "kernelspec": {
   "display_name": "Python 3",
   "language": "python",
   "name": "python3"
  },
  "language_info": {
   "codemirror_mode": {
    "name": "ipython",
    "version": 3
   },
   "file_extension": ".py",
   "mimetype": "text/x-python",
   "name": "python",
   "nbconvert_exporter": "python",
   "pygments_lexer": "ipython3",
   "version": "3.12.0"
  }
 },
 "nbformat": 4,
 "nbformat_minor": 2
}
