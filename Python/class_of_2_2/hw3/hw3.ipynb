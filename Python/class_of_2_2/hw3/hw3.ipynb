{
 "cells": [
  {
   "cell_type": "code",
   "execution_count": 2,
   "metadata": {},
   "outputs": [
    {
     "name": "stdout",
     "output_type": "stream",
     "text": [
      "세 개의 양의 정수를 입력하시오.\n",
      "세 수의 합은 짝수이고, 가장 큰 수는 5이다.\n"
     ]
    }
   ],
   "source": [
    "# 1 seeks_large_numbers\n",
    "\n",
    "print(\"세 개의 양의 정수를 입력하시오.\")  # \"세 개의 양의 정수를 입력하시오.\"를 출력하는 문구\n",
    "\n",
    "num = []  # num이라는 빈 리스트를 생성\n",
    "\n",
    "for i in range(0, 3):  # 0부터 2까지 세 번 반복\n",
    "    num.append(int(input(str(i+1) + \"번째 양의 정수 : \")))  # 양의 정수를 입력 받아 num 리스트에 추가\n",
    "\n",
    "summ = sum(num)  # sum() 함수를 사용하여 num 리스트의 합을 계산하고 summ 변수에 저장\n",
    "\n",
    "if summ % 2 == 0:  #리스트의 합이 짝수이면\n",
    "    # max() 함수를 사용하여 num 리스트에서 최댓값을 구하고 해당 값을 출력\n",
    "    print(f\"세 수의 합은 짝수이고, 가장 큰 수는 {max(num)}이다.\")\n",
    "else:  # 짝수가 아닌 홀수이면 f-string을 사용하여 합을 출력\n",
    "    print(f\"세 수의 합은 홀수이고, 그 합은 {summ}이다.\")"
   ]
  },
  {
   "cell_type": "code",
   "execution_count": 7,
   "metadata": {},
   "outputs": [
    {
     "name": "stdout",
     "output_type": "stream",
     "text": [
      "세 개의 양의 정수를 입력하시오.\n",
      "세 수의 합은 짝수이고, 가장 큰 수는 77이다.\n"
     ]
    }
   ],
   "source": [
    "print(\"세 개의 양의 정수를 입력하시오.\")\n",
    "\n",
    "n = []\n",
    "for i in range (3):\n",
    "    n.append(int(input(str(i+1) + \"번째 양의 정수 : \")))\n",
    "    \n",
    "nsum = sum(n)\n",
    "\n",
    "if nsum % 2 == 0:\n",
    "    print(\"세 수의 합은 짝수이고, 가장 큰 수는 %d이다.\" % max(n))\n",
    "    \n",
    "elif nsum % 2 == 1:\n",
    "    print(\"세 수의 합은 홀수이고, 그 합은 %d이다.\" % nsum)"
   ]
  },
  {
   "cell_type": "code",
   "execution_count": null,
   "metadata": {},
   "outputs": [],
   "source": [
    "# 2 distance_between_two_points\n",
    "\n",
    "print(\"두 점 사이의 거리 구하기\")  # 문구를 출력\n",
    "\n",
    "# 두 개의 정수를 입력 받아 split()함수를 사용하여 공백을 기준으로 문자열을 리스트로 분리\n",
    "# map()함수를 사용하여 첫 번째 인자로 전달된 함수(여기서는 int)를 두 번째 인자로 전달된 \n",
    "# iterable(여기서는 split()을 통해 얻은 리스트)의 각 요소에 적용하여 결과를 반환\n",
    "a1, b1 = map(int, input(\"첫 번째 점의 x, y 좌표 입력 (예: 1 2): \").split())\n",
    "a2, b2 = map(int, input(\"두 번째 점의 x, y 좌표 입력 (예: 3 4): \").split())\n",
    "\n",
    "distance = ((a2 - a1)**2 + (b2 - b1)**2)**0.5  # 두 점 사이의 거리를 구하는 공식을 사용하여 distance 변수에 대입\n",
    "\n",
    "# 결과를 출력, 좌표는 괄호로 감싸고 거리는 f-string을 사용하여 간결하게 표현\n",
    "print(f\"({a1}, {b1})과 ({a2}, {b2}) 사이의 거리는 {distance:.2f}이다.\")\n"
   ]
  },
  {
   "cell_type": "code",
   "execution_count": null,
   "metadata": {},
   "outputs": [],
   "source": [
    "# 3 gap_score\n",
    "\n",
    "def gap_score(score_list):  # 리스트의 가장 큰 값과 가장 작은 값의 차를 구하는 함수 정의\n",
    "    score_list.sort()  # 리스트를 sort() 함수를 사용하여 오름차순으로 정렬\n",
    "    gap = score_list[-1] - score_list[0]  # 리스트의 가장 큰 값에서 가장 작은 값의 차를 gap 변수에 대입\n",
    "    return gap  # gap 값을 반환\n",
    "\n",
    "score_list = [45, 66, 70, 83, 50, 77, 87, 92, 73, 89]  # score_list에 주어진 리스트 요소를 대입\n",
    "result = gap_score(score_list)  # gap_score() 함수를 사용하여 결과값을 result 변수에 대입\n",
    "print(result)  # 결과 출력"
   ]
  },
  {
   "cell_type": "code",
   "execution_count": null,
   "metadata": {},
   "outputs": [],
   "source": [
    "# 4 ouput_type\n",
    "\n",
    "mixlist = ['apple', 5, 'banana', 'grape', 3, 8, 6, 'melon']  # mixlist는 리스트에 요소를 대입\n",
    "\n",
    "for x in mixlist:  # mixlist의 각 요소에 대해 반복\n",
    "    if type(x) == str:  # 만약 x의 타입이 문자열이면\n",
    "        print(\"%s --> type is string\" % x)  # 해당 문자열과 타입 정보를 출력\n",
    "    elif type(x) == int:  # 만약 x의 타입이 정수이면\n",
    "        print(\"%d --> type is integer\" % x)  # 해당 정수와 타입 정보를 출력"
   ]
  },
  {
   "cell_type": "code",
   "execution_count": 6,
   "metadata": {},
   "outputs": [
    {
     "name": "stdout",
     "output_type": "stream",
     "text": [
      "1 2 3 4 5 \n",
      "10 9 8 7 6 \n",
      "11 12 13 14 15 \n",
      "20 19 18 17 16 \n",
      "21 22 23 24 25 \n"
     ]
    }
   ],
   "source": [
    "# 5 snake\n",
    "\n",
    "n = int(input(\"n을 입력하시오 : \")) # n의 값을 입력 받음\n",
    "nlist = [] # nlist라는 공백 리스트 생성\n",
    "\n",
    "for i in range(1,n+1) : # 1부터 n까지의 숫자에 대해 반복\n",
    "    column = [] # 각 행에 대한 공백 리스트 생성\n",
    "    if (i % 2 == 0) : # 만약 i가 짝수라면\n",
    "        for j in range(n,0,-1) : # n부터 1까지 역순으로 반복\n",
    "            column.append(j+n*(i-1)) # append()함수를 사용하여 계산된 값을 column 리스트에 추가\n",
    "            print(f\"{(j+n*(i-1))}\", end = \" \") # 결과를 출력하고 줄 바꿈을 하지 않음\n",
    "        nlist.append(column) # append()함수를 사용하여 nlist에 현재 행의 column을 추가\n",
    "        print() # 다음 줄로 넘어감\n",
    "        \n",
    "    if (i % 2 == 1) : # 만약 i가 홀수라면\n",
    "        for j in range(1, n+1) : # 1부터 n까지 반복\n",
    "            column.append(j+n*(i-1)) # append()함수를 사용하여 계산된 값을 column 리스트에 추가\n",
    "            print(f\"{(j+n*(i-1))}\", end = \" \") # 결과를 출력하고 줄 바꿈을 하지 않음\n",
    "        nlist.append(column) # append()함수를 사용하여 nlist에 현재 행의 column을 추가\n",
    "        print() # 다음 줄로 넘어감"
   ]
  },
  {
   "cell_type": "code",
   "execution_count": 14,
   "metadata": {},
   "outputs": [
    {
     "name": "stdout",
     "output_type": "stream",
     "text": [
      "1 2 3 \n",
      "6 5 4 \n",
      "7 8 9 \n"
     ]
    }
   ],
   "source": [
    "n = int(input(\"n을 입력하시오 : \"))\n",
    "\n",
    "for i in range(1, n+1):\n",
    "    if i % 2 == 1:\n",
    "        for j in range(1, n+1):\n",
    "            print(j+n*(i-1), end = ' ')\n",
    "        print()\n",
    "        \n",
    "    elif i % 2 == 0:\n",
    "        for j in range(n, 0, -1):\n",
    "            print(j+n*(i-1), end = ' ')\n",
    "        print()"
   ]
  }
 ],
 "metadata": {
  "kernelspec": {
   "display_name": "Python 3",
   "language": "python",
   "name": "python3"
  },
  "language_info": {
   "codemirror_mode": {
    "name": "ipython",
    "version": 3
   },
   "file_extension": ".py",
   "mimetype": "text/x-python",
   "name": "python",
   "nbconvert_exporter": "python",
   "pygments_lexer": "ipython3",
   "version": "3.12.0"
  }
 },
 "nbformat": 4,
 "nbformat_minor": 2
}
