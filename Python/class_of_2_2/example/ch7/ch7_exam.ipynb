{
 "cells": [
  {
   "cell_type": "code",
   "execution_count": 5,
   "metadata": {},
   "outputs": [
    {
     "name": "stdout",
     "output_type": "stream",
     "text": [
      "\n",
      " Binary : 1010\n",
      " Octal : 12\n",
      " Hexadecimal : A"
     ]
    }
   ],
   "source": [
    "# 재귀 호출\n",
    "\n",
    "def base2(n):\n",
    "    if n < 2:\n",
    "        print(numberChar[n], end = '')\n",
    "    else :\n",
    "        base2(n // 2) # // -> 정수 나눗셈 연산자\n",
    "        print(numberChar[n % 2], end = '')\n",
    "\n",
    "def base8(n):\n",
    "    if n < 8:\n",
    "        print(numberChar[n], end = '')\n",
    "    else :\n",
    "        base2(n // 8)\n",
    "        print(numberChar[n % 8], end = '')\n",
    "        \n",
    "def base16(n):\n",
    "    if n < 16:\n",
    "        print(numberChar[n], end = '')\n",
    "    else :\n",
    "        base2(n // 16)\n",
    "        print(numberChar[n % 16], end = '')\n",
    "        \n",
    "numberChar = ['0', '1', '2', '3', '4', '5', '6', '7', '8', '9']\n",
    "numberChar += ['A', 'B', 'C', 'D', 'E', 'F']\n",
    "\n",
    "number = int(input(\"Enter decimal number : \"))\n",
    "\n",
    "print(\"\\n Binary : \", end = '')\n",
    "base2(number)\n",
    "print(\"\\n Octal : \", end = '')\n",
    "base8(number)\n",
    "print(\"\\n Hexadecimal : \", end = '')\n",
    "base16(number)"
   ]
  },
  {
   "cell_type": "code",
   "execution_count": 4,
   "metadata": {},
   "outputs": [
    {
     "name": "stdout",
     "output_type": "stream",
     "text": [
      "yes yes no "
     ]
    }
   ],
   "source": [
    "# 부품 찾기\n",
    "\n",
    "#이진 탐색\n",
    "def binary_search(array, target, start, end) :\n",
    "    while start <= end :\n",
    "        mid = (start + end) // 2\n",
    "        #찾은 경우 중간 인덱스 반환\n",
    "        if array[mid] == target :\n",
    "            return mid\n",
    "            #중간점의 값보다 찾고자 하는 값이 작은 경우 왼쪽 확인\n",
    "        elif array[mid] > target :\n",
    "            \n",
    "            end = mid - 1\n",
    "            #중간점 값보다 찾고자 하는 값이 작은 경우 오른쪽 확인\n",
    "        else :\n",
    "            start = mid + 1\n",
    "    return None\n",
    "    \n",
    "# N(가게의 부품 개수) 입력\n",
    "n = int(input(\"N = \"))\n",
    "\n",
    "# 가게에 있는 전패 부품 번호를 공백으로 구분하여 입력\n",
    "array = list(map(int, input(\"부품 번호 : \").split()))\n",
    "array.sort()\n",
    "\n",
    "# M(손님이 확인 요청한 부품 개수) 입력\n",
    "m= int(input(\"M = \"))\n",
    "\n",
    "# 손님이 확인 요청한 부품 번호를 하나씩 확인\n",
    "x = list(map(int, input(\"찾는 부품 번호 : \").split()))\n",
    "\n",
    "#손님이 확인 요청한 부품 번호를 하나씩 확인\n",
    "for i in x:\n",
    "    result = binary_search(array, i, 0, n-1)\n",
    "    if result != None :\n",
    "        print('yes', end =' ')\n",
    "        \n",
    "    else :\n",
    "        print('no', end = ' ')"
   ]
  }
 ],
 "metadata": {
  "kernelspec": {
   "display_name": "Python 3",
   "language": "python",
   "name": "python3"
  },
  "language_info": {
   "codemirror_mode": {
    "name": "ipython",
    "version": 3
   },
   "file_extension": ".py",
   "mimetype": "text/x-python",
   "name": "python",
   "nbconvert_exporter": "python",
   "pygments_lexer": "ipython3",
   "version": "3.12.0"
  }
 },
 "nbformat": 4,
 "nbformat_minor": 2
}
