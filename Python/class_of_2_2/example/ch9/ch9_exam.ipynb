{
 "cells": [
  {
   "cell_type": "code",
   "execution_count": 2,
   "metadata": {},
   "outputs": [
    {
     "name": "stdout",
     "output_type": "stream",
     "text": [
      "총매출 = 5000000\n",
      "평균 일매출 = 1000000.0\n"
     ]
    }
   ],
   "source": [
    "# 매출 파일 처리\n",
    "\n",
    "infilename = input(\"입력 파일 이름: \") # D:/Coding/Python/class_of_2_2/example/ch9/sales.txt\n",
    "outfilename = input(\"출력 파일 이름: \") # D:/Coding/Python/class_of_2_2/example/ch9/summary.txt\n",
    "\n",
    "infile = open(infilename, \"r\")\n",
    "outfile = open(outfilename, \"w\")\n",
    "\n",
    "summ = 0\n",
    "count = 0\n",
    "\n",
    "line = infile.readline()\n",
    "while line != \"\":\n",
    "    s = int(line)\n",
    "    summ += s\n",
    "    count += 1\n",
    "    line = infile.readline()\n",
    "\n",
    "outfile.write(\"총매출 =\" + str(summ) + \"\\n\")\n",
    "outfile.write(\"평균 일매출 =\" + str(summ / count) + \"\\n\")\n",
    "\n",
    "print(\"총매출 = \" + str(summ))\n",
    "print(\"평균 일매출 = \" + str(summ / count))\n",
    "\n",
    "infile.close()\n",
    "outfile.close()"
   ]
  },
  {
   "cell_type": "code",
   "execution_count": 3,
   "metadata": {},
   "outputs": [
    {
     "name": "stdout",
     "output_type": "stream",
     "text": [
      "평 문 :  The Language Of Truth Is Simple.\n",
      "암호문 :  wkh odqjxdjh ri wuxwk lv vlpsoh.\n",
      "복호문 :  the language of truth is simple.\n"
     ]
    }
   ],
   "source": [
    "# 알파벳 순서를 나타내는 문자열\n",
    "key = \"abcdefghijklmnopqrstuvwxyz\"\n",
    "\n",
    "# 평문을 받아서 암호화하고 암호문을 반환하는 함수\n",
    "def encrypt(n, plaintext):\n",
    "    result = \"\"\n",
    "    \n",
    "    # 평문의 각 문자에 대해 반복\n",
    "    for char in plaintext.lower():  # 각 문자를 소문자로 변환\n",
    "        try:\n",
    "            # 현재 문자의 인덱스를 찾고 n만큼 이동하여 새로운 위치의 문자를 찾음\n",
    "            new_index = (key.index(char) + n) % 26\n",
    "            result += key[new_index]  # 암호문에 추가\n",
    "        except ValueError:\n",
    "            # 만약 문자가 알파벳이 아니라면 그대로 유지\n",
    "            result += char\n",
    "    \n",
    "    return result.lower()  # 암호문을 소문자로 반환\n",
    "\n",
    "# 암호문을 받아서 복호화하고 평문을 반환하는 함수\n",
    "def decrypt(n, ciphertext):\n",
    "    result = ''\n",
    "    for char in ciphertext:\n",
    "        try:\n",
    "            # 현재 문자의 인덱스를 찾고 n만큼 뒤로 이동하여 새로운 위치의 문자를 찾음\n",
    "            new_index = (key.index(char) - n) % 26\n",
    "            result += key[new_index]  # 복호문에 추가\n",
    "        except ValueError:\n",
    "            result += char\n",
    "    \n",
    "    return result\n",
    "\n",
    "# 이동 거리\n",
    "n = 3\n",
    "# 평문\n",
    "text = \"The Language Of Truth Is Simple.\"\n",
    "\n",
    "# 암호화 수행\n",
    "encrypted = encrypt(n, text)\n",
    "# 복호화 수행\n",
    "decrypted = decrypt(n, encrypted)\n",
    "\n",
    "# 결과 출력\n",
    "print(\"평 문 : \", text)\n",
    "print(\"암호문 : \", encrypted)\n",
    "print(\"복호문 : \", decrypted)"
   ]
  }
 ],
 "metadata": {
  "kernelspec": {
   "display_name": "Python 3",
   "language": "python",
   "name": "python3"
  },
  "language_info": {
   "codemirror_mode": {
    "name": "ipython",
    "version": 3
   },
   "file_extension": ".py",
   "mimetype": "text/x-python",
   "name": "python",
   "nbconvert_exporter": "python",
   "pygments_lexer": "ipython3",
   "version": "3.12.0"
  }
 },
 "nbformat": 4,
 "nbformat_minor": 2
}
