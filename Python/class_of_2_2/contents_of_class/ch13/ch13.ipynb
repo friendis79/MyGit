{
 "cells": [
  {
   "cell_type": "code",
   "execution_count": 1,
   "metadata": {},
   "outputs": [],
   "source": [
    "# 윈도우 제어\n",
    "\n",
    "import numpy as np\n",
    "import cv2\n",
    "\n",
    "image = np.zeros((200, 400), np.uint8)\n",
    "image[ : ]  = 200\n",
    "\n",
    "title1, title2 = 'Position1', 'Position2'\n",
    "cv2.namedWindow(title1, cv2.WINDOW_AUTOSIZE)\n",
    "cv2.namedWindow(title2)\n",
    "cv2.moveWindow(title1, 150, 150)\n",
    "cv2.moveWindow(title2, 400, 50)\n",
    "\n",
    "cv2.imshow(title1, image)\n",
    "cv2.imshow(title2, image)\n",
    "cv2.waitKey(0)\n",
    "cv2.destroyAllWindows()"
   ]
  },
  {
   "cell_type": "code",
   "execution_count": 2,
   "metadata": {},
   "outputs": [],
   "source": [
    "#윈도우 제어 WINDOW_AUTOSIZE & WINDOW_NORMAL\n",
    "\n",
    "import numpy as np\n",
    "import cv2\n",
    "\n",
    "image = np.zeros((200, 300), np.uint8)\n",
    "image.fill(255)\n",
    "\n",
    "title1, title2 = 'AUTOSIZE', 'NORMAL'\n",
    "cv2.namedWindow(title1, cv2.WINDOW_AUTOSIZE)\n",
    "cv2.namedWindow(title2, cv2.WINDOW_NORMAL)\n",
    "\n",
    "cv2.imshow(title1, image)\n",
    "cv2.imshow(title2, image)\n",
    "cv2.resizeWindow(title1, 400, 300)\n",
    "cv2.resizeWindow(title2, 400, 300)\n",
    "cv2.waitKey(0)\n",
    "cv2.destroyAllWindows()"
   ]
  },
  {
   "cell_type": "code",
   "execution_count": null,
   "metadata": {},
   "outputs": [],
   "source": [
    "# 이벤트 처리\n",
    "\n",
    "import numpy as np\n",
    "import cv2\n",
    "\n",
    "# switch case문을 딕셔너리로 구현\n",
    "switc_case = {\n",
    "    ord('a'): 'a키를 입력',\n",
    "    ord('b'): 'b키를 입력',\n",
    "    0x41: \"A키를 입력\",\n",
    "    int('0x42', 16): \"B키를 입력\",\n",
    "    0x250000 : \"왼쪽 화살표키 입력\",\n",
    "    0x260000 : \"윗쪽 화살표키 입력\",\n",
    "    0x270000 : \"오른쪽 화살표키 입력\",\n",
    "    0x280000 : \"아래쪽 화살표키 입력\",\n",
    "}\n",
    "\n",
    "image = np.ones((200, 300), np.uint8)\n",
    "\n",
    "cv2.namedWindow('Keyboard Event')\n",
    "cv2.imshow('Keyboard Event', image)\n",
    "\n",
    "while True :\n",
    "    key = cv2.waitKeyEx(100)\n",
    "    if key == 27 : break\n",
    "    \n",
    "    try :\n",
    "        result = switc_case[key]\n",
    "        print(result)\n",
    "    except KeyError:\n",
    "         result = -1\n",
    "         \n",
    "cv2.destroyAllWindows()\n",
    "    "
   ]
  },
  {
   "cell_type": "code",
   "execution_count": 1,
   "metadata": {},
   "outputs": [
    {
     "name": "stdout",
     "output_type": "stream",
     "text": [
      "Gray to Gray : depth(uint8), channels(1) -> mat_type(CV_8UC1)\n",
      "Gray to Color : depth(uint8), channels(3) -> mat_type(CV_8UC3)\n"
     ]
    },
    {
     "data": {
      "text/plain": [
       "-1"
      ]
     },
     "execution_count": 1,
     "metadata": {},
     "output_type": "execute_result"
    }
   ],
   "source": [
    "# 이미지 파일 처리\n",
    "\n",
    "import numpy as np\n",
    "import cv2\n",
    "\n",
    "def print_matInfo(name, image):\n",
    "    if image.dtype == 'uint8': mat_type = \"CV_8U\"\n",
    "    elif image.dtype == 'int8': mat_type = \"CV_8S\"\n",
    "    elif image.dtype == 'uint16': mat_type = \"CV_16U\"\n",
    "    elif image.dtype == 'int16': mat_type = \"CV_16S\"\n",
    "    elif image.dtype == 'float32': mat_type = \"CV_32F\"\n",
    "    elif image.dtype == 'float64': mat_type = \"CV_64F\"\n",
    "    nchannel = 3 if image.ndim == 3 else 1\n",
    "    \n",
    "    print(\"%12s : depth(%s), channels(%s) -> mat_type(%sC%d)\"\n",
    "          % (name, image.dtype, nchannel, mat_type, nchannel))\n",
    "    \n",
    "path_gray = \"C:/Coding/Python/class_of_2_2/contents_of_class/ch13/file/read_color.jpg\"\n",
    "gray2gray = cv2.imdecode(np.fromfile(path_gray, dtype=np.uint8),\n",
    "                             cv2.IMREAD_GRAYSCALE)\n",
    "    \n",
    "gray2color = cv2.imdecode(np.fromfile(path_gray, dtype=np.uint8),\n",
    "                             cv2.IMREAD_COLOR)\n",
    "    \n",
    "if (gray2gray is None or gray2color is None):\n",
    "        raise Exception(\"이미지 파일 읽기 에러\")\n",
    "    \n",
    "title1 = \"Gray to Gray\"\n",
    "title2 = \"Gray to Color\"\n",
    "\n",
    "print_matInfo(title1, gray2gray)\n",
    "print_matInfo(title2, gray2color)\n",
    "\n",
    "cv2.imshow(title1, gray2gray)\n",
    "cv2.imshow(title2, gray2color)\n",
    "cv2.waitKey(0)"
   ]
  },
  {
   "cell_type": "code",
   "execution_count": 2,
   "metadata": {},
   "outputs": [],
   "source": [
    "# 웹켐\n",
    "\n",
    "import cv2\n",
    "\n",
    "cap = cv2.VideoCapture(0)\n",
    "if cap.isOpened :\n",
    "    file_path = 'c:/Python/비디오/recod_edge,mp4'\n",
    "    fps = 25.40\n",
    "    fourcc = cv2.VideoWriter_fourcc(*'DIVX')\n",
    "    width = cap.get(cv2.CAP_PROP_FRAME_WIDTH)\n",
    "    height = cap.get(cv2.CAP_PROP_FRAME_HEIGHT)\n",
    "    size = (int(width), int(height))\n",
    "    out = cv2.VideoWriter(file_path, fourcc, fps, size)\n",
    "    while cv2.waitKey(33) != ord('q'):\n",
    "        ret, frame = cap.read()\n",
    "        edge=cv2.Canny(frame, 50, 150)\n",
    "        edge_color=cv2.cvtColor(edge, cv2.COLOR_GRAY2BGR)\n",
    "        if ret:\n",
    "            cv2.imshow('edge', edge)\n",
    "            out.write(edge_color)\n",
    "        else:\n",
    "            print('no file!')\n",
    "            break\n",
    "    out.release()\n",
    "else :\n",
    "    print(\"Can't open camera!\")\n",
    "    \n",
    "cap.release()\n",
    "cv2.destroyAllWindows()"
   ]
  },
  {
   "cell_type": "code",
   "execution_count": null,
   "metadata": {},
   "outputs": [],
   "source": [
    "#그래프 데이터 출력\n",
    "\n",
    "import pandas as pd\n",
    "import matplotlib.pyplot as plt\n",
    "import matplotlib.font_manager as fm\n",
    "\n",
    "# 한글 폰트를 사용하기 위한 설정\n",
    "font_path = 'c:/Windows/Fonts/malgun.ttf'\n",
    "font_prop = fm.FontProperties(fname=font_path)\n",
    "font_name = font_prop.get_name()\n",
    "plt.rc('font',family=font_name)\n",
    "plt.rcParams['axes.unicode_minus']=False # 한글에서 음수 표현\n",
    "\n",
    "# 데이터 가져오기\n",
    "df = pd.read_csv(\"C:/Coding/Python/class_of_2_2/contents_of_class/ch13/file/주택가격변동률.csv\")\n",
    "df.plot(kind='line', x='년도', y=[\"수도권\", \"강남\", \"시중금리\"],\n",
    "rot=0, figsize=(12, 6), fontsize=12)\n",
    "plt.grid()\n",
    "plt.ylabel(\"단위 %\")\n",
    "plt.show()"
   ]
  },
  {
   "cell_type": "code",
   "execution_count": null,
   "metadata": {},
   "outputs": [],
   "source": [
    "# 데이터를 설정하고 산 점도로 시각화\n",
    "\n",
    "df = pd.read_csv(\"C:/Coding/Python/class_of_2_2/contents_of_class/ch13/file/주택가격변동률.csv\")\n",
    "data = df[[\"시중금리\", \"수도권\"]]\n",
    "\n",
    "# 시중금리와 수도권 주택 가격 변동률 산점도 그래프 그리기\n",
    "plt.scatter(data[\"시중금리\"], data[\"수도권\"], color='blue')\n",
    "plt.xlabel(\"시중금리\")\n",
    "plt.ylabel(\"수도권 주택가격 변동률(%)\")\n",
    "plt.grid()\n",
    "plt.show()\n"
   ]
  },
  {
   "cell_type": "code",
   "execution_count": null,
   "metadata": {},
   "outputs": [],
   "source": []
  }
 ],
 "metadata": {
  "kernelspec": {
   "display_name": "Python 3",
   "language": "python",
   "name": "python3"
  },
  "language_info": {
   "codemirror_mode": {
    "name": "ipython",
    "version": 3
   },
   "file_extension": ".py",
   "mimetype": "text/x-python",
   "name": "python",
   "nbconvert_exporter": "python",
   "pygments_lexer": "ipython3",
   "version": "3.11.5"
  }
 },
 "nbformat": 4,
 "nbformat_minor": 2
}
