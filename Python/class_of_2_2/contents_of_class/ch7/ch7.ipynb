{
 "cells": [
  {
   "cell_type": "code",
   "execution_count": null,
   "metadata": {},
   "outputs": [],
   "source": [
    "# 함수 호출과 값 변환\n",
    "import math\n",
    "\n",
    "## 함수 선언 부분 ##\n",
    "def get_area(radius):\n",
    "    area = math.pi * radius **2\n",
    "    return area\n",
    "\n",
    "## 메인 코드 부분 ##\n",
    "r = int(input(\"Enter radius of circle : \"))\n",
    "result = get_area(r)\n",
    "print(\"Area of circle wuth radius is %d : \" % r, result )"
   ]
  },
  {
   "cell_type": "code",
   "execution_count": null,
   "metadata": {},
   "outputs": [],
   "source": [
    "# 지역변수, 전역변수\n",
    "\n",
    "def print_sum():\n",
    "    global a, b\n",
    "    a = 100; b = 200\n",
    "    result = a + b\n",
    "    print(\"print_sum() 내부 : %d 와 %d의 값은 %d\" %(a, b, result))\n",
    "    \n",
    "a = 10; b = 20\n",
    "print_sum()\n",
    "result = a + b\n",
    "print(\"print_sum() 외부 : %d 와 %d의 값은 %d\" %(a, b, result))"
   ]
  },
  {
   "cell_type": "code",
   "execution_count": null,
   "metadata": {},
   "outputs": [],
   "source": [
    "# 정수를 2진수로 변환하여 리스트에 저장하여 반환하기\n",
    "\n",
    "def convert(num):\n",
    "    binary = []\n",
    "    while num > 0:\n",
    "        remainder = num % 2\n",
    "        binary.insert(0, remainder)\n",
    "        num //= 2\n",
    "    return binary       # 들여쓰기 조심\n",
    "a = int(input(\"정수를 입력하세요 : \"))\n",
    "\n",
    "result = convert(a)\n",
    "print(\"%d binary --> %s\" %(a, result))"
   ]
  },
  {
   "cell_type": "code",
   "execution_count": null,
   "metadata": {},
   "outputs": [],
   "source": [
    "#함수의 매개변수 전달\n",
    "\n",
    "# #입력된 두 정수 범위까지의 합을 계산하기 ##\n",
    "def get_sum(start, end):\n",
    "    sum = 0\n",
    "    for i in range(start, end+1):\n",
    "        sum += i\n",
    "    return sum\n",
    "\n",
    "a, b = map(int, input(\"정수 두 개 값을 입력 : \").split())\n",
    "value = get_sum(a, b)\n",
    "print(\"%d부터 %d까지의 합 = %d\" %(a, b, value))\n",
    "print(value)"
   ]
  },
  {
   "cell_type": "code",
   "execution_count": null,
   "metadata": {},
   "outputs": [],
   "source": [
    "#디폴트 인수\n",
    "\n",
    "## 함수 선언 부분 ##\n",
    "def get_sum(v1, v2, v3 = 10) :\n",
    "    sum = 0\n",
    "    sum = v1 + v2 + v3\n",
    "    return sum\n",
    "\n",
    "hap = 0\n",
    "hap = get_sum(10, 20)\n",
    "print(\"매개변수가 2개인 함수를 호출한 결과 ==> %d\" %hap)\n",
    "hap = get_sum(10, 20, 30)\n",
    "print(\"매개변수가 3개인 함수를 호출한 결과 ==> %d\" %hap)"
   ]
  },
  {
   "cell_type": "code",
   "execution_count": null,
   "metadata": {},
   "outputs": [],
   "source": [
    "#키워드 인수\n",
    "\n",
    "## 함수 선언 부분 ##\n",
    "def get_sum(v1, v2, v3) :\n",
    "    print(\"v1 = %d, v2 =%d, v3 =%d\" %(v1, v2, v3))\n",
    "    sum = 0\n",
    "    sum = v1 + v2 + v3\n",
    "    return sum\n",
    "\n",
    "hap = 0\n",
    "hap = get_sum(v2 = 200, v3 = 300, v1 = 100)\n",
    "print(\"키워드 인수로 함수를 호출한 결과 => %d\" %hap)"
   ]
  },
  {
   "cell_type": "code",
   "execution_count": null,
   "metadata": {},
   "outputs": [],
   "source": [
    "#가변 인수\n",
    "\n",
    "## 함수 선언 부분 ##\n",
    "def get_sum(*args) :\n",
    "    sum = 0\n",
    "    for num in args :\n",
    "        sum = sum + num\n",
    "    return sum\n",
    "    \n",
    "hap = 0\n",
    "hap = get_sum(10, 30)\n",
    "print(\"매개변수가 2개인 함수를 호출한 결과 => %d\" %hap)\n",
    "hap = get_sum(10, 30, 60)\n",
    "print(\"매개변수가 3개인 함수를 호출한 결과 => %d\" %hap)\n",
    "\n",
    "def dic_func(**kwargs) :\n",
    "    for k in kwargs.keys() :\n",
    "        print(\"%s --> %d명입니다.\" %(k, kwargs[k]))\n",
    "        \n",
    "dic_func(트와이스 =9, 소녀시대 = 7, 걸스데이 = 4, 블랙핑크 = 4)"
   ]
  },
  {
   "cell_type": "code",
   "execution_count": null,
   "metadata": {},
   "outputs": [],
   "source": [
    "#패킹 (Packing)\n",
    "\n",
    "def sum_all(*numbers) :\n",
    "    result = 0\n",
    "    for n in numbers :\n",
    "        result += n\n",
    "    return result\n",
    "    \n",
    "hap = sum_all(10, 20, 30)\n",
    "print(\"전체 합 : %d\" %hap)\n",
    "hap = sum_all(10, 20, 30, 40, 50, 60)\n",
    "print(\"전체 합 : %d\" %hap)"
   ]
  },
  {
   "cell_type": "code",
   "execution_count": null,
   "metadata": {},
   "outputs": [],
   "source": [
    "#언패킹 (unpacking)\n",
    "\n",
    "def sum(a, b, c):\n",
    "    return a + b + c\n",
    "\n",
    "numbers = [10, 20, 30]\n",
    "hap = sum(*numbers)\n",
    "print(\"Total :  %d\" %hap)\n",
    "\n",
    "numbers = [10, 20, 30, 40]\n",
    "hap = sum(*numbers)\n",
    "print(\"Total = %d\" %hap)"
   ]
  },
  {
   "cell_type": "code",
   "execution_count": null,
   "metadata": {},
   "outputs": [],
   "source": [
    "#1~45 난수 출력\n",
    "\n",
    "import random\n",
    "\n",
    "def getNumbers() :\n",
    "    num = random.randint(1, 46) # 처음 숫자\n",
    "    for i in range(6) :\n",
    "        while num in lotto:\n",
    "            num = random.randint(1, 45) # 숫자 추가\n",
    "        lotto.append(num)\n",
    "        \n",
    "lotto = []\n",
    "num = 0\n",
    "getNumbers()\n",
    "lotto.sort()\n",
    "\n",
    "print(\"Selected lotto numbers ==> \", end = ' ')\n",
    "for i in range(6):\n",
    "    print(\"%d\" %lotto[i], end = ' ')"
   ]
  },
  {
   "cell_type": "code",
   "execution_count": null,
   "metadata": {},
   "outputs": [],
   "source": [
    "#재귀 함수\n",
    "\n",
    "## Count Down ##\n",
    "def countdown(n) :\n",
    "    if n <= 0:\n",
    "        print(\"Launch!!\")\n",
    "    else :\n",
    "        print(n, end = ' ')\n",
    "        countdown(n-1)\n",
    "        \n",
    "n = int(input(\"Enter countdown value : \"))\n",
    "countdown(n)"
   ]
  },
  {
   "cell_type": "code",
   "execution_count": null,
   "metadata": {},
   "outputs": [],
   "source": [
    "#피보나치 수열 함수의 재귀적 구현\n",
    "def fibonacci(n) :\n",
    "    if n<=1:\n",
    "        return n\n",
    "    else :\n",
    "        # F_n = F_(n-1) + F_(n-2)\n",
    "        return(fibonacci(n-1) + fibonacci(n-2))\n",
    "    \n",
    "nterms = int(input(\"Enter value of Fibonacco : \"))\n",
    "\n",
    "#음수일 경우 피보나치 수를 구할 수 없음\n",
    "if nterms <= 0:\n",
    "    print(\"Error : Plz enter positive number.\")\n",
    "else :\n",
    "    print(\"Fibonacci sequence : \", end = '')\n",
    "    for i in range(nterms):\n",
    "        print(fibonacci(i), end = ' ')"
   ]
  },
  {
   "cell_type": "code",
   "execution_count": 1,
   "metadata": {},
   "outputs": [
    {
     "name": "stdout",
     "output_type": "stream",
     "text": [
      "정수의 합 :  30\n",
      "정수의 합 :  50\n"
     ]
    }
   ],
   "source": [
    "#람다 함수\n",
    "f =lambda x, y : x + y\n",
    "\n",
    "print(\"정수의 합 : \", f(10, 20))\n",
    "\n",
    "print(\"정수의 합 : \", f(20, 30))"
   ]
  },
  {
   "cell_type": "code",
   "execution_count": null,
   "metadata": {},
   "outputs": [],
   "source": [
    "#2차 함수 그래프 그리기\n",
    "import turtle\n",
    "t = turtle.Turtle()\n",
    "\n",
    "#좌표 그리기\n",
    "def drawaxis(size):\n",
    "    for i in range(4):\n",
    "        t.setheading(90*i)\n",
    "        t.forward(size)\n",
    "        t.home()\n",
    "        \n",
    "#2차함수 그리기\n",
    "drawaxis(300)\n",
    "t.pencolor('red')\n",
    "t.pensize(3)\n",
    "t.up()\n",
    "x = -10\n",
    "y = x**2 -8*x-8\n",
    "t.goto(x*10, y)\n",
    "t.down()\n",
    "for x in range(-10, 21):\n",
    "    y = (x**2 - 8*x-8)\n",
    "    t.goto(x*10, y)\n",
    "    \n",
    "turtle.done()\n",
    "turtle.bye()"
   ]
  }
 ],
 "metadata": {
  "kernelspec": {
   "display_name": "Python 3",
   "language": "python",
   "name": "python3"
  },
  "language_info": {
   "codemirror_mode": {
    "name": "ipython",
    "version": 3
   },
   "file_extension": ".py",
   "mimetype": "text/x-python",
   "name": "python",
   "nbconvert_exporter": "python",
   "pygments_lexer": "ipython3",
   "version": "3.11.5"
  }
 },
 "nbformat": 4,
 "nbformat_minor": 2
}
