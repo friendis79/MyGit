{
 "cells": [
  {
   "cell_type": "code",
   "execution_count": null,
   "metadata": {},
   "outputs": [],
   "source": [
    "#판다스 설치 확인\n",
    "import pandas as pd\n",
    "s = pd.Series([0.0, 1.1, 2.1, 3.1, 4.5, 8])\n",
    "print(s)"
   ]
  },
  {
   "cell_type": "code",
   "execution_count": null,
   "metadata": {},
   "outputs": [],
   "source": [
    "#데이터 오브젝트 생성하기 - Series 오브젝트 생성\n",
    "import pandas as pd\n",
    "data = [\"Kim\", \"Park\", \"Lee\", \"Choi\"]\n",
    "ser = pd.Series(data)\n",
    "print(ser)"
   ]
  },
  {
   "cell_type": "code",
   "execution_count": null,
   "metadata": {},
   "outputs": [],
   "source": [
    "#데이터 오브젝트 생성하기 - DataFrame 객체 생성하기\n",
    "import pandas as pd\n",
    "data = {\"Name\" : [\"Kim\", \"Park\", \"Lee\", \"Choi\"],\n",
    "        \"Age\" : [20, 23, 21, 26]}\n",
    "df = pd.DataFrame(data)\n",
    "print(df)"
   ]
  },
  {
   "cell_type": "code",
   "execution_count": null,
   "metadata": {},
   "outputs": [],
   "source": [
    "#데이터 오브젝트 생성하기 - DataFrame의 index를 매개변수로 사용\n",
    "import pandas as pd\n",
    "data = {\"Name\" : [\"Kim\", \"Park\", \"Lee\", \"Choi\"],\n",
    "        \"Age\" : [20, 23, 21, 26]}\n",
    "df = pd.DataFrame(data, index= [\"학번 1\", \"학번 2\", \"학번 3\", \"학번 4\"])\n",
    "print(df)"
   ]
  },
  {
   "cell_type": "code",
   "execution_count": 1,
   "metadata": {},
   "outputs": [
    {
     "name": "stdout",
     "output_type": "stream",
     "text": [
      "     A          B    C  D      E    F\n",
      "0  1.0 2013-10-02  1.0  3   test  foo\n",
      "1  1.0 2013-10-02  1.0  3  train  foo\n",
      "2  1.0 2013-10-02  1.0  3   test  foo\n",
      "3  1.0 2013-10-02  1.0  3  train  foo\n",
      "\n",
      " ==  컬럼들의 데이터 타입 ==\n",
      "A          float64\n",
      "B    datetime64[s]\n",
      "C          float32\n",
      "D            int32\n",
      "E         category\n",
      "F           object\n",
      "dtype: object\n",
      "\n",
      " == DataFrame을 Numpy 배열로 변환 ==\n",
      "[[1.0 Timestamp('2013-10-02 00:00:00') 1.0 3 'test' 'foo']\n",
      " [1.0 Timestamp('2013-10-02 00:00:00') 1.0 3 'train' 'foo']\n",
      " [1.0 Timestamp('2013-10-02 00:00:00') 1.0 3 'test' 'foo']\n",
      " [1.0 Timestamp('2013-10-02 00:00:00') 1.0 3 'train' 'foo']]\n"
     ]
    }
   ],
   "source": [
    "#데이터 오브젝트 생성하기 - 딕셔너리를 사용하여 DataFrame 생성\n",
    "import numpy as np\n",
    "import pandas as pd\n",
    "\n",
    "df = pd.DataFrame(\n",
    "    {\n",
    "        \"A\" : 1.0,\n",
    "        \"B\" : pd.Timestamp(\"2013-10-02\"),\n",
    "        \"C\" : pd.Series(1, index=list(range(4)), dtype=\"float32\"),\n",
    "        \"D\" : np.array([3] * 4, dtype=\"int32\"),\n",
    "        \"E\" : pd.Categorical([\"test\", \"train\", \"test\", \"train\"]),\n",
    "        \"F\" : \"foo\"\n",
    "    }\n",
    ")\n",
    "\n",
    "print(df)\n",
    "print(\"\\n ==  컬럼들의 데이터 타입 ==\")\n",
    "print(df.dtypes)\n",
    "print(\"\\n == DataFrame을 Numpy 배열로 변환 ==\")\n",
    "print(df.to_numpy())"
   ]
  },
  {
   "cell_type": "code",
   "execution_count": 1,
   "metadata": {},
   "outputs": [
    {
     "name": "stdout",
     "output_type": "stream",
     "text": [
      "     PassengerId  Survived  Pclass  \\\n",
      "0              1         0       3   \n",
      "1              2         1       1   \n",
      "2              3         1       3   \n",
      "3              4         1       1   \n",
      "4              5         0       3   \n",
      "..           ...       ...     ...   \n",
      "886          887         0       2   \n",
      "887          888         1       1   \n",
      "888          889         0       3   \n",
      "889          890         1       1   \n",
      "890          891         0       3   \n",
      "\n",
      "                                                  Name     Sex   Age  SibSp  \\\n",
      "0                              Braund, Mr. Owen Harris    male  22.0      1   \n",
      "1    Cumings, Mrs. John Bradley (Florence Briggs Th...  female  38.0      1   \n",
      "2                               Heikkinen, Miss. Laina  female  26.0      0   \n",
      "3         Futrelle, Mrs. Jacques Heath (Lily May Peel)  female  35.0      1   \n",
      "4                             Allen, Mr. William Henry    male  35.0      0   \n",
      "..                                                 ...     ...   ...    ...   \n",
      "886                              Montvila, Rev. Juozas    male  27.0      0   \n",
      "887                       Graham, Miss. Margaret Edith  female  19.0      0   \n",
      "888           Johnston, Miss. Catherine Helen \"Carrie\"  female   NaN      1   \n",
      "889                              Behr, Mr. Karl Howell    male  26.0      0   \n",
      "890                                Dooley, Mr. Patrick    male  32.0      0   \n",
      "\n",
      "     Parch            Ticket     Fare Cabin Embarked  \n",
      "0        0         A/5 21171   7.2500   NaN        S  \n",
      "1        0          PC 17599  71.2833   C85        C  \n",
      "2        0  STON/O2. 3101282   7.9250   NaN        S  \n",
      "3        0            113803  53.1000  C123        S  \n",
      "4        0            373450   8.0500   NaN        S  \n",
      "..     ...               ...      ...   ...      ...  \n",
      "886      0            211536  13.0000   NaN        S  \n",
      "887      0            112053  30.0000   B42        S  \n",
      "888      2        W./C. 6607  23.4500   NaN        S  \n",
      "889      0            111369  30.0000  C148        C  \n",
      "890      0            370376   7.7500   NaN        Q  \n",
      "\n",
      "[891 rows x 12 columns]\n"
     ]
    }
   ],
   "source": [
    "#타이타닉 CSV 파일 읽기\n",
    "import pandas as pd\n",
    "titanic = pd.read_csv(\"C:/Coding/Python/class_of_2_2/contents_of_class/ch12/titanic.csv\")\n",
    "print(titanic)"
   ]
  },
  {
   "cell_type": "code",
   "execution_count": null,
   "metadata": {},
   "outputs": [],
   "source": [
    "#승객들 나이 추출\n",
    "import pandas as pd\n",
    "titanic = pd.read_csv(\"C:/Coding/Python/class_of_2_2/contents_of_class/ch12/titanic.csv\")\n",
    "print(titanic[\"Age\"])\n",
    "print(\"최고령 나이 ==\", titanic[\"Age\"].max())"
   ]
  },
  {
   "cell_type": "code",
   "execution_count": null,
   "metadata": {},
   "outputs": [],
   "source": [
    "#승객 데이터에 대한 기본통계 - describe() 메소드는 숫자 데이터에 대한 간략한 개요 제공\n",
    "import pandas as pd\n",
    "titanic = pd.read_csv(\"C:/Coding/Python/class_of_2_2/contents_of_class/ch12/titanic.csv\")\n",
    "print(titanic.describe())"
   ]
  },
  {
   "cell_type": "code",
   "execution_count": null,
   "metadata": {},
   "outputs": [],
   "source": [
    "#여러 개의 데이터 추출\n",
    "import pandas as pd\n",
    "titanic = pd.read_csv(\"C:/Coding/Python/class_of_2_2/contents_of_class/ch12/titanic.csv\")\n",
    "print(titanic[[\"Name\", \"Age\", \"Sex\"]])"
   ]
  },
  {
   "cell_type": "code",
   "execution_count": null,
   "metadata": {},
   "outputs": [],
   "source": [
    "#조건에 맞는 데이터 추출\n",
    "import pandas as pd\n",
    "titanic = pd.read_csv(\"C:/Coding/Python/class_of_2_2/contents_of_class/ch12/titanic.csv\")\n",
    "below_20 = titanic[titanic[\"Age\"]<20]\n",
    "print(below_20.head())    # head() : 처음 5개 행만 읽기"
   ]
  },
  {
   "cell_type": "code",
   "execution_count": null,
   "metadata": {},
   "outputs": [],
   "source": [
    "#타이타닉 데이터셋을 이용한 분석 - 조건에 맞는 데이터 추출\n",
    "import pandas as pd\n",
    "titanic = pd.read_csv(\"C:/Coding/Python/class_of_2_2/contents_of_class/ch12/titanic.csv\")\n",
    "df = titanic[titanic[\"Pclass\"].isin([1, 2])]   #isin*()함수는 제공된 리스트에 있는 값들이 들어 있는 각 행에 대하여 True를 반환\n",
    "print(df)"
   ]
  },
  {
   "cell_type": "code",
   "execution_count": null,
   "metadata": {},
   "outputs": [],
   "source": [
    "#타이타닉 데이터셋을 이용한 분석 - 조건에 대한 값 계산하기\n",
    "import pandas as pd\n",
    "titanic = pd.read_csv(\"C:/Coding/Python/class_of_2_2/contents_of_class/ch12/titanic.csv\")\n",
    "print(titanic[[\"Age\", \"Fare\"]].median())\n",
    "\n",
    "print(\"\\n 성별 및 승객 등급 조합의 평균 탑승권 요금\")\n",
    "print(titanic.groupby([\"Sex\", \"Pclass\"])[\"Fare\"].mean())\n"
   ]
  },
  {
   "cell_type": "code",
   "execution_count": null,
   "metadata": {},
   "outputs": [],
   "source": [
    "#데이터 정렬 방법 - .sort_values()로 정렬\n",
    "import pandas as pd\n",
    "titanic = pd.read_csv(\"C:/Coding/Python/class_of_2_2/contents_of_class/ch12/titanic.csv\")\n",
    "df = titanic.sort_values(by = \"Age\")\n",
    "print(df)"
   ]
  },
  {
   "cell_type": "code",
   "execution_count": null,
   "metadata": {},
   "outputs": [],
   "source": [
    "#데이터 정렬 방법 - .sort_values()의 ascending으로 올림 차순 내림차순 정렬\n",
    "import pandas as pd\n",
    "titanic = pd.read_csv(\"C:/Coding/Python/class_of_2_2/contents_of_class/ch12/titanic.csv\")\n",
    "df = titanic.sort_values(by = [\"Pclass\", \"Age\"], ascending=False)\n",
    "print(df)"
   ]
  },
  {
   "cell_type": "code",
   "execution_count": null,
   "metadata": {},
   "outputs": [],
   "source": [
    "#원하는 값만 출력\n",
    "import pandas as pd\n",
    "titanic = pd.read_csv(\"C:/Coding/Python/class_of_2_2/contents_of_class/ch12/titanic.csv\")\n",
    "\n",
    "print(titanic[\"Age\"])\n",
    "print(\"최고령자 나이 ==>\", titanic[\"Age\"].max())\n",
    "\n",
    "print(titanic[[\"Name\", \"Age\", \"Sex\"]])\n",
    "up_30 = titanic[titanic[\"Age\"]>=30]\n",
    "print(up_30[\"Age\"].head())\n",
    "\n",
    "df = titanic.sort_values(by=\"Age\")\n",
    "print(df)\n",
    "print(\"Age values :\")\n",
    "print(df[\"Age\"])\n",
    "\n",
    "df = titanic.sort.values(by = [\"Pclass\", \"Age\"], ascending=False)\n",
    "print(df[[\"Pclass\", \"Age\"]])"
   ]
  },
  {
   "cell_type": "code",
   "execution_count": null,
   "metadata": {},
   "outputs": [],
   "source": [
    "#데이터 탐색 - 데이터의 기본 정보 탐색\n",
    "import pandas as pd\n",
    "titanic = pd.read_csv(\"C:/Coding/Python/class_of_2_2/contents_of_class/ch12/titanic.csv\")\n",
    "print(\"타이타닉 기본정보 확인\")\n",
    "print(titanic.info())\n",
    "print(\"생존자 속성값의 빈도를 확인\")\n",
    "print(titanic.Survived.value_counts())"
   ]
  },
  {
   "cell_type": "code",
   "execution_count": null,
   "metadata": {},
   "outputs": [],
   "source": [
    "#데이터 탐색 - 남자 승객과 여자 승객의 생존율을 파이차트로 시각화\n",
    "import pandas as pd\n",
    "import matplotlib.pyplot as plt\n",
    "\n",
    "titanic = pd.read_csv(\"C:/Coding/Python/class_of_2_2/contents_of_class/ch12/titanic.csv\")\n",
    "f, ax = plt.subplots(1, 2, figsize=(10, 5))\n",
    "\n",
    "sm = titanic[\"Survived\"][titanic[\"Sex\"]==\"male\"].value_counts()\n",
    "sm.plot.pie(explode=[0, 0.1], autopct = \"%1.1f%%\",\n",
    "            ax = ax[0], shadow = True)\n",
    "\n",
    "sf = titanic[\"Survived\"][titanic[\"Sex\"]==\"female\"].value_counts()\n",
    "sf.plot.pie(explode=[0, 0.1], autopct = \"%1.1f%%\",\n",
    "            ax = ax[1], shadow = True)\n",
    "\n",
    "ax[0].set_title(\"Survived(Male)\")\n",
    "ax[1].set_title(\"Survived(Female)\")\n",
    "plt.show()"
   ]
  },
  {
   "cell_type": "code",
   "execution_count": null,
   "metadata": {},
   "outputs": [],
   "source": [
    "#타이타닉호 생존율 상관관계 분석하기\n",
    "import pandas as pd\n",
    "import seaborn as sns\n",
    "import matplotlib.pyplot as plt\n",
    "\n",
    "titanic = pd.read_csv(\"C:/Coding/Python/class_of_2_2/contents_of_class/ch12/titanic.csv\")\n",
    "\n",
    "table = pd.pivot_table(titanic, index = \"Pclass\", columns= \"Sex\",\n",
    "                       values=\"Survived\", aggfunc=sum)\n",
    "print(table)\n",
    "\n",
    "ax = sns.countplot(x = \"Pclass\",\n",
    "                   hue = \"Survived\",\n",
    "                   data = titanic)\n",
    "\n",
    "for p in ax.patches:\n",
    "    height = p.get_height()\n",
    "    ax.text(x = p.get_x() + (p.get_width()/2), # 가로 위치\n",
    "            y = height +3,                     # 세로 위치\n",
    "            s = height,                        # 텍스트 위치\n",
    "            ha = \"center\",                     # 데이터 정렬\n",
    "            size = 9)                          # 폰트 사이즈\n",
    "    \n",
    "plt.title(\"Pclass vs Survived\")\n",
    "plt.show()"
   ]
  },
  {
   "cell_type": "code",
   "execution_count": null,
   "metadata": {},
   "outputs": [],
   "source": [
    "#타이타닉호 생존율 상관관계 분석하기 - 두 변수의 상관관계 시각화 하기 : 생존자의 객실 등급고ㅘ 나이의 관계를 catplot()로 그리기\n",
    "import pandas as pd\n",
    "import seaborn as sns\n",
    "import matplotlib.pyplot as plt\n",
    "\n",
    "titanic = pd.read_csv(\"C:/Coding/Python/class_of_2_2/contents_of_class/ch12/titanic.csv\")\n",
    "sns.catplot(x = \"Pclass\", y=\"Age\",\n",
    "            hue = \"Survived\", data = titanic)\n",
    "plt.show()"
   ]
  },
  {
   "cell_type": "code",
   "execution_count": null,
   "metadata": {},
   "outputs": [],
   "source": [
    "import pandas as pd\n",
    "import seaborn as sns\n",
    "import matplotlib.pyplot as plt\n",
    "\n",
    "titanic = pd.read_csv(\"C:/Coding/Python/class_of_2_2/contents_of_class/ch12/titanic.csv\")\n",
    "\n",
    "print(titanic)"
   ]
  },
  {
   "cell_type": "code",
   "execution_count": 41,
   "metadata": {},
   "outputs": [
    {
     "name": "stdout",
     "output_type": "stream",
     "text": [
      "             PassengerId  Survived    Pclass       Age     SibSp     Parch  \\\n",
      "PassengerId     1.000000 -0.005007 -0.035144  0.036847 -0.057527 -0.001652   \n",
      "Survived       -0.005007  1.000000 -0.338481 -0.077221 -0.035322  0.081629   \n",
      "Pclass         -0.035144 -0.338481  1.000000 -0.369226  0.083081  0.018443   \n",
      "Age             0.036847 -0.077221 -0.369226  1.000000 -0.308247 -0.189119   \n",
      "SibSp          -0.057527 -0.035322  0.083081 -0.308247  1.000000  0.414838   \n",
      "Parch          -0.001652  0.081629  0.018443 -0.189119  0.414838  1.000000   \n",
      "Fare            0.012658  0.257307 -0.549500  0.096067  0.159651  0.216225   \n",
      "\n",
      "                 Fare  \n",
      "PassengerId  0.012658  \n",
      "Survived     0.257307  \n",
      "Pclass      -0.549500  \n",
      "Age          0.096067  \n",
      "SibSp        0.159651  \n",
      "Parch        0.216225  \n",
      "Fare         1.000000  \n"
     ]
    },
    {
     "name": "stderr",
     "output_type": "stream",
     "text": [
      "c:\\py\\Lib\\site-packages\\seaborn\\utils.py:84: UserWarning: Glyph 8722 (\\N{MINUS SIGN}) missing from current font.\n",
      "  fig.canvas.draw()\n",
      "C:\\Users\\정민욱\\AppData\\Roaming\\Python\\Python312\\site-packages\\IPython\\core\\pylabtools.py:152: UserWarning: Glyph 8722 (\\N{MINUS SIGN}) missing from current font.\n",
      "  fig.canvas.print_figure(bytes_io, **kw)\n"
     ]
    },
    {
     "data": {
      "image/png": "[encoded data removed]",
      "text/plain": [
       "<Figure size 640x480 with 2 Axes>"
      ]
     },
     "metadata": {},
     "output_type": "display_data"
    }
   ],
   "source": [
    "#타이타닉호 상관관계 분석하기 - 히트맵(Hearmap)\n",
    "import pandas as pd\n",
    "import seaborn as sns\n",
    "import matplotlib.pyplot as plt\n",
    "\n",
    "titanic = pd.read_csv(\"C:/Coding/Python/class_of_2_2/contents_of_class/ch12/titanic.csv\")\n",
    "\n",
    "\"\"\" numeric_columns = titanic.select_dtypes(include=['float64', 'int64'])\n",
    "titanic_corr = numeric_columns.corr(numeric_only=True, method=\"pearson\") \"\"\"\n",
    "titanic_corr = titanic.corr(numeric_only=True, method=\"pearson\")\n",
    "print(titanic_corr)\n",
    "\n",
    "sns.heatmap(titanic_corr,\n",
    "            annot=True,\n",
    "            vmin=-1, vmax=1,\n",
    "            \n",
    "            cmap=\"RdBu\")\n",
    "\n",
    "plt.show()"
   ]
  },
  {
   "cell_type": "code",
   "execution_count": null,
   "metadata": {},
   "outputs": [],
   "source": [
    "#무역데이터 읽어 오기 - 1\n",
    "import pandas as pd\n",
    "\n",
    "trade = pd.read_csv(\"C:/Coding/Python/class_of_2_2/contents_of_class/ch12/수출데이터(10년).csv\", encoding=\"UTF8\")\n",
    "print(trade)"
   ]
  },
  {
   "cell_type": "code",
   "execution_count": null,
   "metadata": {},
   "outputs": [],
   "source": [
    "#무역데이터 읽어 오기 - 2.\n",
    "import pandas as pd\n",
    "\n",
    "trade = pd.read_csv(\"C:/Coding/Python/class_of_2_2/contents_of_class/ch12/수출데이터(10년).csv\", index_col=0)\n",
    "print(trade)"
   ]
  },
  {
   "cell_type": "code",
   "execution_count": null,
   "metadata": {},
   "outputs": [],
   "source": [
    "#라인 그래프 그리기\n",
    "import pandas as pd\n",
    "import seaborn as sns\n",
    "import matplotlib.font_manager as fm\n",
    "\n",
    "#한글 폰트를사용하기 위한 세팅\n",
    "font_path = \"c:/Windows/Fonts/malgun.ttf\"\n",
    "font_prop = fm.FontProperties(fname=font_path)\n",
    "font_name = font_prop.get_name()\n",
    "plt.rc(\"font\", family=font_name)\n",
    "\n",
    "trade = pd.read_csv(\"C:/Coding/Python/class_of_2_2/contents_of_class/ch12/수출데이터(10년).csv\")\n",
    "trade.plot(kind=\"line\", x=\"년도\", rot = 0,\n",
    "           figsize=(10, 8), fontsize=9)\n",
    "plt.grid()\n",
    "plt.ylabel(\"(수출금액 단위, 백만불)\")\n",
    "plt.legend(loc=\"upper left\")\n",
    "plt.show()"
   ]
  },
  {
   "cell_type": "code",
   "execution_count": null,
   "metadata": {},
   "outputs": [],
   "source": [
    "#막대 그래프 그리기\n",
    "import pandas as pd\n",
    "import seaborn as sns\n",
    "import matplotlib.font_manager as fm\n",
    "\n",
    "#한글 폰트를사용하기 위한 세팅\n",
    "font_path = \"c:/Windows/Fonts/malgun.ttf\"\n",
    "font_prop = fm.FontProperties(fname=font_path)\n",
    "font_name = font_prop.get_name()\n",
    "plt.rc(\"font\", family=font_name)\n",
    "\n",
    "trade = pd.read_csv(\"C:/Coding/Python/class_of_2_2/contents_of_class/ch12/수출데이터(10년).csv\")\n",
    "trade.plot(kind=\"bar\", x=\"년도\", rot = 10,\n",
    "           figsize=(10, 7), fontsize=12)\n",
    "plt.grid()\n",
    "plt.ylabel(\"(수출금액 단위, 백만불)\")\n",
    "plt.legend(loc=\"upper left\")\n",
    "plt.show()"
   ]
  },
  {
   "cell_type": "code",
   "execution_count": null,
   "metadata": {},
   "outputs": [],
   "source": [
    "#파이 차트 그리기\n",
    "import pandas as pd\n",
    "import matplotlib.pyplot as plt\n",
    "import matplotlib.font_manager as fm\n",
    "\n",
    "#한글 폰트를사용하기 위한 세팅\n",
    "font_path = \"c:/Windows/Fonts/malgun.ttf\"\n",
    "font_prop = fm.FontProperties(fname=font_path)\n",
    "font_name = font_prop.get_name()\n",
    "plt.rc(\"font\", family=font_name)\n",
    "\n",
    "trade = pd.read_csv(\"C:/Coding/Python/class_of_2_2/contents_of_class/ch12/수출데이터(10년).csv\", index_col=0)\n",
    "df = trade.T\n",
    "print(df)\n",
    "\n",
    "df.plot(kind= \"pie\", figsize= (8, 8), x= \"중국\", y= 2022,\n",
    "        fontsize= 16, autopct = \"1.1f%%\")\n",
    "\n",
    "plt.grid()\n",
    "plt.xlabel(\"2022년 무역통계\", size = 20)\n",
    "plt.legend().remove()\n",
    "plt.show()"
   ]
  }
 ],
 "metadata": {
  "kernelspec": {
   "display_name": "Python 3",
   "language": "python",
   "name": "python3"
  },
  "language_info": {
   "codemirror_mode": {
    "name": "ipython",
    "version": 3
   },
   "file_extension": ".py",
   "mimetype": "text/x-python",
   "name": "python",
   "nbconvert_exporter": "python",
   "pygments_lexer": "ipython3",
   "version": "3.11.5"
  }
 },
 "nbformat": 4,
 "nbformat_minor": 2
}
