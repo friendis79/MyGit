{
 "cells": [
  {
   "cell_type": "code",
   "execution_count": 1,
   "metadata": {},
   "outputs": [],
   "source": [
    "#tkinter 모듈 사용법\n",
    "import tkinter\n",
    "window = tkinter.Tk()\n",
    "window.mainloop()"
   ]
  },
  {
   "cell_type": "code",
   "execution_count": 24,
   "metadata": {},
   "outputs": [],
   "source": [
    "#윈도우 창 크기 조절하기\n",
    "\n",
    "from tkinter import *\n",
    "\n",
    "\n",
    "window = Tk()\n",
    "window.title(\"윈도우창 연습\")\n",
    "window.geometry(\"400x400\")\n",
    "window.resizable(width = FALSE, height = FALSE)\n",
    "\n",
    "window.mainloop()"
   ]
  },
  {
   "cell_type": "code",
   "execution_count": 1,
   "metadata": {},
   "outputs": [
    {
     "name": "stdout",
     "output_type": "stream",
     "text": [
      "프로그램이 종료 됩니다.\n"
     ]
    }
   ],
   "source": [
    "#기본 위젯\n",
    "from tkinter import *\n",
    "window = Tk()\n",
    "\n",
    "def exit_window() :\n",
    "    print(\"프로그램이 종료 됩니다.\")\n",
    "    window.destroy()\n",
    "\n",
    "label1 = Label(window, text = \"Python을\")\n",
    "label2 = Label(window, text = \"열심히\", font =  (\"궁서체\", 30), fg = \"blue\", anchor = SE)\n",
    "textBox = Entry(window)\n",
    "btn = Button(window, text = \"ok\", command = exit_window)\n",
    "\n",
    "label1.pack(); label2.pack(); textBox.pack(); btn.pack()\n",
    "\n",
    "window.mainloop()"
   ]
  },
  {
   "cell_type": "code",
   "execution_count": 2,
   "metadata": {},
   "outputs": [],
   "source": [
    "#레이블에 이미지 넣기 (고양이)\n",
    "from tkinter import *\n",
    "window = Tk()\n",
    "\n",
    "photo = PhotoImage(file = \"C:/Coding/Python/class_of_2_2/image/cat.gif\",\n",
    "                   master = window)\n",
    "label1 = Label(window, image = photo)\n",
    "\n",
    "label1.pack()\n",
    "\n",
    "window.mainloop()"
   ]
  },
  {
   "cell_type": "code",
   "execution_count": null,
   "metadata": {},
   "outputs": [],
   "source": [
    "#버튼\n",
    "from tkinter import *\n",
    "window = Tk()\n",
    "\n",
    "def exit_window() :\n",
    "    print(\"프로그램이 종료 됩니다.\")\n",
    "    window.destroy()\n",
    "    window.quit()\n",
    "    \n",
    "button = Button(window, text = \"프로그램 종료\", fg = \"red\", command = exit_window)\n",
    "\n",
    "button.pack()\n",
    "\n",
    "window.mainloop()"
   ]
  },
  {
   "cell_type": "code",
   "execution_count": 30,
   "metadata": {},
   "outputs": [],
   "source": [
    "#체크 버튼\n",
    "from tkinter import *\n",
    "from tkinter import messagebox\n",
    "\n",
    "window = Tk()\n",
    "\n",
    "def myFunc():\n",
    "    if chk.get() == 0:\n",
    "        messagebox.showinfo(\"\", \"체크 버튼이 선택되지 않았어요.\")\n",
    "    else :\n",
    "        messagebox.showinfo(\"\", \"체크 버튼이 선택되었어요\")\n",
    "        \n",
    "chk = IntVar()\n",
    "cb1 = Checkbutton(window, text = \"선택하세요\", variable = chk, command = myFunc)\n",
    "\n",
    "cb1.pack()\n",
    "\n",
    "window.mainloop()"
   ]
  },
  {
   "cell_type": "code",
   "execution_count": 31,
   "metadata": {},
   "outputs": [],
   "source": [
    "#라디오 버튼\n",
    "from tkinter import *\n",
    "window = Tk()\n",
    "\n",
    "## 함수 선언 부분 ##\n",
    "def myFunc() :\n",
    "    if var.get() == 1:\n",
    "        label1.configure(text = \"파이썬\")\n",
    "    elif var.get() == 2:\n",
    "        label1.configure(text = \"C++\")\n",
    "    else :\n",
    "        label1.configure(text = \"Java\")\n",
    "        \n",
    "## 메인 코드 부분 ##\n",
    "var = IntVar()\n",
    "rb1 = Radiobutton(window, text = \"파이썬\", variable = var, value = 1, command = myFunc)\n",
    "rb2 = Radiobutton(window, text = \"C++\", variable = var, value = 2, command = myFunc)\n",
    "rb3 = Radiobutton(window, text = \"java\", variable = var, value = 3, command = myFunc)\n",
    "\n",
    "label1 = Label(window, text = \"선택한 언어 : \",font = (\"맑은 고딕\", 10), fg = \"red\")\n",
    "\n",
    "rb1.pack()\n",
    "rb2.pack()\n",
    "rb3.pack()\n",
    "label1.pack()\n",
    "window.mainloop()"
   ]
  },
  {
   "cell_type": "code",
   "execution_count": 32,
   "metadata": {},
   "outputs": [],
   "source": [
    "#세로 배치\n",
    "from tkinter import *\n",
    "\n",
    "window = Tk()\n",
    "\n",
    "Button1 = Button(window, text = \"버튼 1\")\n",
    "button2 = Button(window, bg = \"yellow\", text = \"버튼 2\")\n",
    "button3 = Button(window, bg = \"red\", text = \"버튼 3\")\n",
    "\n",
    "Button1.pack()\n",
    "button2.pack()\n",
    "button3.pack()\n",
    "\n",
    "window.mainloop()"
   ]
  },
  {
   "cell_type": "code",
   "execution_count": 15,
   "metadata": {},
   "outputs": [],
   "source": [
    "#가로배치\n",
    "from tkinter import *\n",
    "\n",
    "window = Tk()\n",
    "\n",
    "Button1 = Button(window, text = \"버튼 1\")\n",
    "button2 = Button(window, bg = \"yellow\", text = \"버튼 2\")\n",
    "button3 = Button(window, bg = \"red\", text = \"버튼 3\")\n",
    "\n",
    "Button1.pack(side = LEFT)\n",
    "button2.pack(side = LEFT)\n",
    "button3.pack(side = LEFT)\n",
    "\n",
    "window.mainloop()"
   ]
  },
  {
   "cell_type": "code",
   "execution_count": null,
   "metadata": {},
   "outputs": [],
   "source": [
    "#for문을 이용한 배치\n",
    "from tkinter import *\n",
    "window = Tk()\n",
    "\n",
    "btnList = [None] * 3\n",
    "\n",
    "for i in range(0, 3):\n",
    "    btnList[i] = Button(window, text = \"버튼\" + str(i+1))\n",
    "\n",
    "for btn in btnList :\n",
    "    btn.pack(side = RIGHT)\n",
    "    \n",
    "window,mainloop()"
   ]
  },
  {
   "cell_type": "code",
   "execution_count": null,
   "metadata": {},
   "outputs": [],
   "source": [
    "#수직 정렬\n",
    "from tkinter import *\n",
    "window = Tk()\n",
    "\n",
    "btnList = [None] * 3\n",
    "\n",
    "for i in range(0, 3):\n",
    "    btnList[i] = Button(window, text = \"버튼\" + str(i+1))\n",
    "\n",
    "for btn in btnList :\n",
    "    btn.pack(side = TOP)\n",
    "    \n",
    "window,mainloop()"
   ]
  },
  {
   "cell_type": "code",
   "execution_count": null,
   "metadata": {},
   "outputs": [],
   "source": [
    "#폭 조정\n",
    "from tkinter import *\n",
    "window = Tk()\n",
    "\n",
    "btnList = [None] * 3\n",
    "\n",
    "for i in range(0, 3):\n",
    "    btnList[i] = Button(window, text = \"버튼\" + str(i+1))\n",
    "\n",
    "for btn in btnList :\n",
    "    btn.pack(side = TOP, fill = X)\n",
    "    \n",
    "window,mainloop()"
   ]
  },
  {
   "cell_type": "code",
   "execution_count": 19,
   "metadata": {},
   "outputs": [
    {
     "data": {
      "text/plain": [
       "(<tkinter.Tk object .>, None)"
      ]
     },
     "execution_count": 19,
     "metadata": {},
     "output_type": "execute_result"
    }
   ],
   "source": [
    "#위젯 사이의 여백 조절\n",
    "from tkinter import *\n",
    "window = Tk()\n",
    "\n",
    "btnList = [None] * 3\n",
    "\n",
    "for i in range(0, 3):\n",
    "    btnList[i] = Button(window, text = \"버튼\" + str(i+1))\n",
    "\n",
    "for btn in btnList :\n",
    "    btn.pack(side = TOP, fill = X, padx = 10, pady = 10)\n",
    "                                  #-> 픽셀값  -> 픽셀값\n",
    "window,mainloop()"
   ]
  },
  {
   "cell_type": "code",
   "execution_count": 34,
   "metadata": {},
   "outputs": [
    {
     "data": {
      "text/plain": [
       "(<tkinter.Tk object .>, None)"
      ]
     },
     "execution_count": 34,
     "metadata": {},
     "output_type": "execute_result"
    }
   ],
   "source": [
    "#위젯 내부의 여백 조절\n",
    "from tkinter import *\n",
    "window = Tk()\n",
    "\n",
    "btnList = [None] * 3\n",
    "\n",
    "for i in range(0, 3):\n",
    "    btnList[i] = Button(window, text = \"버튼\" + str(i+1))\n",
    "\n",
    "for btn in btnList :\n",
    "    btn.pack(side = TOP, fill = X, ipadx = 10, ipady = 10)\n",
    "                                 #-> 픽셀값  -> 픽셀값  \n",
    "window,mainloop()"
   ]
  },
  {
   "cell_type": "code",
   "execution_count": 37,
   "metadata": {},
   "outputs": [],
   "source": [
    "#위젯을 테이블 형태로 배치\n",
    "from tkinter import *\n",
    "\n",
    "##변수 선언 부분##\n",
    "btnList = [\"\"] * 9\n",
    "fnameList = [\"honeycomb.gif\",\"gingerbread.gif\",\"jellybean.gif\",\n",
    "             \"kitkat.gif\", \"lollipop.gif\",\"marshmallow.gif\",\n",
    "             \"nougat.gif\", \"oreo.gif\", \"pie.gif\"]\n",
    "photoList=[None] * 9\n",
    "num = 0\n",
    "\n",
    "##메인 코드 부분##\n",
    "window= Tk()\n",
    "window.geometry(\"210x210\")\n",
    "\n",
    "for i in range(0,9):\n",
    "    photoList[i] = PhotoImage(file=\"C:/Coding/Python/class_of_2_2/image/\"+fnameList[i], master = window)\n",
    "    btnList[i] = Button(window, image = photoList[i])\n",
    "\n",
    "for i in range(0,3):\n",
    "    for k in range(0,3):\n",
    "        btnList[num].grid(row = i, column = k)\n",
    "        num += 1\n",
    "\n",
    "window.mainloop()"
   ]
  },
  {
   "cell_type": "code",
   "execution_count": 38,
   "metadata": {},
   "outputs": [],
   "source": [
    "#위젯을 고정 위치에 배치\n",
    "from tkinter import *\n",
    "from time import *\n",
    "\n",
    "##변수 선언 부분##\n",
    "btnList = [\"\"] * 9\n",
    "fnameList = [\"honeycomb.gif\",\"gingerbread.gif\",\"jellybean.gif\",\n",
    "             \"kitkat.gif\", \"lollipop.gif\",\"marshmallow.gif\",\n",
    "             \"nougat.gif\", \"oreo.gif\", \"pie.gif\"]\n",
    "photoList = [None] * 9\n",
    "i, k = 0, 0\n",
    "xPos, yPos = 0, 0\n",
    "num = 0\n",
    "\n",
    "##메인 코드 부분##\n",
    "window = Tk()\n",
    "window.geometry(\"210x210\")\n",
    "\n",
    "for i in range(0,9):\n",
    "    photoList[i] = PhotoImage(file=\"C:/Coding/Python/class_of_2_2/image/\"+fnameList[i], master = window)\n",
    "    btnList[i] = Button(window, image = photoList[i])\n",
    "    \n",
    "for i in range(0, 3):\n",
    "    for k in range(0, 3):\n",
    "        btnList[num].place (x = xPos, y = yPos)\n",
    "        num += 1\n",
    "        xPos += 70\n",
    "    xPos = 0\n",
    "    yPos += 70\n",
    "    \n",
    "window.mainloop()"
   ]
  },
  {
   "cell_type": "code",
   "execution_count": 39,
   "metadata": {},
   "outputs": [],
   "source": [
    "#버튼 이벤트 처리\n",
    "\n",
    "from tkinter import *\n",
    "from tkinter import messagebox\n",
    "\n",
    "def process() :\n",
    "    messagebox.showinfo(\"버튼\", \"버튼이 클릭됨\")\n",
    "    \n",
    "window = Tk()\n",
    "\n",
    "button = Button(window, text = \"클릭하세여\", command = process)\n",
    "button.pack()\n",
    "window.mainloop()"
   ]
  },
  {
   "cell_type": "code",
   "execution_count": 40,
   "metadata": {},
   "outputs": [],
   "source": [
    "#버튼 이벤트 처리 - 레이블과 버튼을 사용하여 간단한 카운터 코드 작성\n",
    "\n",
    "from tkinter import *\n",
    "window = Tk()\n",
    "\n",
    "counter = 0\n",
    "def clicked() :\n",
    "    global counter\n",
    "    counter += 1\n",
    "    label['text'] = \"버튼 클릭 횟수 : \" + str(counter)\n",
    "    \n",
    "label = Label(window, text = \"아직 눌려지지 않음\")\n",
    "label.pack()\n",
    "button = Button(window, text = \"증가\", command = clicked).pack()\n",
    "window.mainloop()"
   ]
  },
  {
   "cell_type": "code",
   "execution_count": null,
   "metadata": {},
   "outputs": [],
   "source": [
    "#마우스 이벤트 처리\n",
    "\n",
    "from tkinter import *\n",
    "window = Tk()\n",
    "\n",
    "def callback(event) :\n",
    "    print(event.x, event.y, \"에서 마우스 이벤트 발생\")\n",
    "\n",
    "frame = Frame(window, width = 600, height = 200)\n",
    "frame.bind(\"<Button - 1>\", callback)\n",
    "frame.pack()\n",
    "window.mainloop()"
   ]
  },
  {
   "cell_type": "code",
   "execution_count": 42,
   "metadata": {},
   "outputs": [],
   "source": [
    "#event 매개변수를 활용한 마우스 이벤트 처리 - 마우스를 클릭할 때마다 어떤 마우스가 클릭되었는지 보여주고 클릭한 좌표를 출력\n",
    "\n",
    "from tkinter import *\n",
    "\n",
    "##함수 선언 부분##\n",
    "def clikMouse(event):\n",
    "    txt = \"\"\n",
    "    if event.num == 1:\n",
    "        txt += \"마우스 왼쪽 버튼이 (\"\n",
    "        \n",
    "    elif event.num == 3:\n",
    "        txt += \"마우스 오른쪽 버튼이 (\"\n",
    "        \n",
    "    txt += str(event.y) + \",\" + str(event.x) + \")에서 클릭됨\"\n",
    "    label1.configure(text = txt)\n",
    "    \n",
    "##메인 코드 부분##\n",
    "window = Tk()\n",
    "window.geometry(\"400x400\")\n",
    "    \n",
    "label1 = Label(window, text = \"이곳이 바뀜\")\n",
    "window.bind(\"<Button>\", clikMouse)\n",
    "label1.pack(expand =1, anchor = CENTER)\n",
    "window.mainloop()"
   ]
  },
  {
   "cell_type": "code",
   "execution_count": null,
   "metadata": {},
   "outputs": [],
   "source": [
    "#키보드 이벤트 처리\n",
    "\n",
    "from tkinter import *\n",
    "\n",
    "##함수 선언 부분##\n",
    "def keyEvent(event) :\n",
    "    txt = \"키보드 이벤트 눌린 키 : \" + chr(event.keycode)\n",
    "    label1.configure(text = txt)\n",
    "    print(\"키보드 이벤트 눌린 키 : \" + chr(event.keycode))\n",
    "    \n",
    "##메인 코드 부분##\n",
    "window = Tk()\n",
    "window.geometry(\"200x200\")\n",
    "\n",
    "label1 = Label(window, text = \"키보드 이벤트\")\n",
    "window.bind(\"<Key>\", keyEvent)\n",
    "label1.pack(expand = 1, anchor = CENTER)\n",
    "window.mainloop()"
   ]
  },
  {
   "cell_type": "code",
   "execution_count": 44,
   "metadata": {},
   "outputs": [],
   "source": [
    "#메뉴 만들기\n",
    "\n",
    "from tkinter import *\n",
    "\n",
    "window = Tk()\n",
    "\n",
    "mainMenu = Menu(window)\n",
    "window.config(menu = mainMenu)\n",
    "\n",
    "fileMenu = Menu(mainMenu)\n",
    "mainMenu.add_cascade(label = \"파일\", menu = fileMenu)\n",
    "fileMenu.add_command(label = \"열기\")\n",
    "fileMenu.add_separator()\n",
    "fileMenu.add_command(label = \"종료\")\n",
    "\n",
    "window.mainloop()"
   ]
  },
  {
   "cell_type": "code",
   "execution_count": 45,
   "metadata": {},
   "outputs": [],
   "source": [
    "#메뉴 만들기 - 메뉴를 선택하면 동작하게 만들기\n",
    "from tkinter import *\n",
    "from tkinter import messagebox\n",
    "\n",
    "##함수 선언 부분##\n",
    "def func_open() :\n",
    "    messagebox.showinfo(\"메뉴 선택\", \"열기 메뉴를 선택함\")\n",
    "    \n",
    "def func_exit():\n",
    "    window.quit()\n",
    "    window.destory()\n",
    "    \n",
    "##메인 코드 부분##\n",
    "window = Tk()\n",
    "mainMenu = Menu(window)\n",
    "window.config(menu = mainMenu)\n",
    "\n",
    "fileMenu = Menu(mainMenu)\n",
    "mainMenu.add_cascade(label = \"파일\", menu = fileMenu)\n",
    "fileMenu.add_command(label = \"열기\", command = func_open)\n",
    "\n",
    "fileMenu.add_separator()\n",
    "fileMenu.add_command(label = \"종료\", command = func_exit)\n",
    "\n",
    "window.mainloop()"
   ]
  },
  {
   "cell_type": "code",
   "execution_count": 46,
   "metadata": {},
   "outputs": [],
   "source": [
    "#대화 상자의 생성과 사용\n",
    "from tkinter import *\n",
    "from tkinter.simpledialog import *\n",
    "\n",
    "## 함수 선언 부분##\n",
    "window =Tk()\n",
    "window.geometry(\"200x200\")\n",
    "\n",
    "label1 = Label(window, text= \"입력된 값 : \")\n",
    "label1.pack()\n",
    "\n",
    "value = askinteger(\"확대 배수\", \"주사위 숫지 (1~6)을 입력하세요\", minvalue=1, maxvalue=6)\n",
    "\n",
    "label1.config(text = \"입력된 값 : \" + str(value))\n",
    "window.mainloop()"
   ]
  },
  {
   "cell_type": "code",
   "execution_count": 47,
   "metadata": {},
   "outputs": [],
   "source": [
    "#캔버스 생성\n",
    "\n",
    "from tkinter import *\n",
    "window = Tk()                                  #화면 출력\n",
    "w = Canvas(window, width = 300, height = 200)  #캔버스 생성\n",
    "w.pack()                                       #그래픽 출력 준비\n",
    "\n",
    "window.mainloop()"
   ]
  },
  {
   "cell_type": "code",
   "execution_count": 48,
   "metadata": {},
   "outputs": [],
   "source": [
    "#직선과 사각형 그리기\n",
    "from tkinter import *\n",
    "\n",
    "window = Tk()\n",
    "w = Canvas(window, width = 300, height = 200)\n",
    "w.pack()\n",
    "w.create_rectangle(50, 25, 200, 100, fill = \"blue\")\n",
    "w.create_line(0, 0, 300, 200)\n",
    "w.create_line(0, 0, 300, 100, fill = \"red\")\n",
    "\n",
    "window.mainloop()"
   ]
  },
  {
   "cell_type": "code",
   "execution_count": 49,
   "metadata": {},
   "outputs": [],
   "source": [
    "#도형 관리\n",
    "from tkinter import *\n",
    "\n",
    "window = Tk()\n",
    "w = Canvas(window, width = 300, height = 200)\n",
    "w.pack()\n",
    "w.create_rectangle(50, 25, 200, 100, fill = \"blue\")\n",
    "\n",
    "i = w.create_line(0, 0, 300, 100, fill = \"red\")\n",
    "w.coords(i, 0, 0, 300, 100)        #좌표 변경\n",
    "w.itemconfig(i, fill = \"blue\")     #색상 변경\n",
    "w.delete(i)                        #객체 i 삭제(전체 삭제는 w.delete(ALL))\n",
    "window.mainloop()"
   ]
  },
  {
   "cell_type": "code",
   "execution_count": 50,
   "metadata": {},
   "outputs": [],
   "source": [
    "#색상 설정\n",
    "from tkinter import *\n",
    "window = Tk()\n",
    "\n",
    "w = Canvas(window, width = 300, height = 200)\n",
    "w.pack()\n",
    "w.create_rectangle(50, 25, 200, 100, fill = \"#FF24B5\")\n",
    "w.create_rectangle(5, 5, 25, 25, outline = \"red\")   \n",
    "\n",
    "window.mainloop()"
   ]
  },
  {
   "cell_type": "code",
   "execution_count": 51,
   "metadata": {},
   "outputs": [],
   "source": [
    "#대화 상자를 이용한 색상 지정\n",
    "from tkinter import *\n",
    "from tkinter.colorchooser import *\n",
    "window = Tk()\n",
    "\n",
    "w = Canvas(window, width = 300, height = 200)\n",
    "w.pack()\n",
    "color = askcolor()\n",
    "w.create_rectangle(50, 25, 200, 100, fill = color[1])\n",
    "\n",
    "window.mainloop()"
   ]
  },
  {
   "cell_type": "code",
   "execution_count": 52,
   "metadata": {},
   "outputs": [],
   "source": [
    "#폰트 지정\n",
    "from tkinter import *\n",
    "window = Tk()\n",
    "\n",
    "canvas = Canvas(window, width = 400, height = 200, bg = \"#afeeee\")\n",
    "canvas.create_text(200, 100, fill = \"darkblue\", font = \"Times 30 italic bold\", text = \"This is a text example.\")\n",
    "canvas.pack()\n",
    "window.mainloop()"
   ]
  },
  {
   "cell_type": "code",
   "execution_count": 53,
   "metadata": {},
   "outputs": [],
   "source": [
    "#도형 그리기\n",
    "from tkinter import *\n",
    "window = Tk()\n",
    "\n",
    "w = Canvas(window, width = 300, height = 200)\n",
    "w.pack()\n",
    "\n",
    "w.create_line(50, 15, 250, 15)\n",
    "w.create_rectangle(50, 35, 250, 85, fill = \"blue\")\n",
    "w.create_arc(50, 100, 250, 250, extent = 90)\n",
    "\n",
    "window.mainloop()"
   ]
  }
 ],
 "metadata": {
  "kernelspec": {
   "display_name": "Python 3",
   "language": "python",
   "name": "python3"
  },
  "language_info": {
   "codemirror_mode": {
    "name": "ipython",
    "version": 3
   },
   "file_extension": ".py",
   "mimetype": "text/x-python",
   "name": "python",
   "nbconvert_exporter": "python",
   "pygments_lexer": "ipython3",
   "version": "3.11.5"
  }
 },
 "nbformat": 4,
 "nbformat_minor": 2
}
