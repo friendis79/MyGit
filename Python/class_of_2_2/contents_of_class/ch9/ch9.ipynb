{
 "cells": [
  {
   "cell_type": "code",
   "execution_count": 1,
   "metadata": {},
   "outputs": [
    {
     "name": "stdout",
     "output_type": "stream",
     "text": [
      "당신이,\n",
      "\n"
     ]
    }
   ],
   "source": [
    "#한 행씩 읽어 들이기 (한 행 읽어 오기)\n",
    "\n",
    "infile = open(\"C:/Coding/Python/class_of_2_2/contents_of_class/ch9/testfiles/test.txt\", \"r\", encoding = \"UTF-8\")\n",
    "line = infile.readline() #한 행만 읽어옴\n",
    "print(line)\n",
    "infile.close()"
   ]
  },
  {
   "cell_type": "code",
   "execution_count": 2,
   "metadata": {},
   "outputs": [
    {
     "name": "stdout",
     "output_type": "stream",
     "text": [
      "당신이,\n",
      "할 수 있다고 말든,\n",
      "할 수 없다고 말든,\n",
      "믿는 대로 될 것이다."
     ]
    }
   ],
   "source": [
    "#한 행씩 읽어 들이기 (모든 행 읽어 오기)\n",
    "\n",
    "infile = open(\"C:/Coding/Python/class_of_2_2/contents_of_class/ch9/testfiles/test.txt\", \"r\", encoding = \"UTF-8\")\n",
    "\n",
    "while True:                 # while True: 사용해서 공백이 나오기 전까지 readline()을 실행\n",
    "    line = infile.readline()\n",
    "    if line == \"\":\n",
    "        break\n",
    "    print(line, end = '')\n",
    "    \n",
    "infile.close()"
   ]
  },
  {
   "cell_type": "code",
   "execution_count": null,
   "metadata": {},
   "outputs": [],
   "source": [
    "#한 번에 모두 읽기 readlines() 함수\n",
    "\n",
    "infile = open(\"C:/Coding/Python/class_of_2_2/contents_of_class/ch9/testfiles/test.txt\", \"r\", encoding = \"UTF-8\")\n",
    "\n",
    "lines = infile.readlines() #한 번에 모두 읽는 역할을 하는 readlines() --> 출력하면 문자열?로 나옴\n",
    "print(lines)\n",
    "print('-'*20)\n",
    "\n",
    "for line in lines: #문자열? 식으로 나오는것을 없앰\n",
    "    line = line.strip() # strip()을 사용함으로써 공백(개행 문자 포함)을 제거\n",
    "    print(line)\n",
    "    \n",
    "infile.close()"
   ]
  },
  {
   "cell_type": "code",
   "execution_count": 3,
   "metadata": {},
   "outputs": [
    {
     "name": "stdout",
     "output_type": "stream",
     "text": [
      "당신이,\n",
      "할 수 있다고 말든,\n",
      "할 수 없다고 말든,\n",
      "믿는 대로 될 것이다.\n"
     ]
    }
   ],
   "source": [
    "#파일 전체 읽기\n",
    "\n",
    "infile = open(\"C:/Coding/Python/class_of_2_2/contents_of_class/ch9/testfiles/test.txt\", \"r\", encoding = \"UTF-8\")\n",
    "\n",
    "#read() -> 파일의 내용 전체를 문자열로 돌려준다.\n",
    "data = infile.read()\n",
    "print(data)\n",
    "infile.close()"
   ]
  },
  {
   "cell_type": "code",
   "execution_count": null,
   "metadata": {},
   "outputs": [],
   "source": [
    "#파일명을 입력하여 파일 전체 읽기\n",
    "\n",
    "infile = None\n",
    "fName, inList, inStr = \"\", [], \"\"\n",
    "\n",
    "fName = input(\"파일명을 입력 하세요 : \") # C:/Coding/Python/class_of_2_2/contents_of_class/ch9/testfiles/test.txt\n",
    "infile = open(fName, 'r', encoding = 'UTF-8')\n",
    "\n",
    "inList = infile.readlines()\n",
    "for inStr in inList:\n",
    "    print(inStr, end = \"\")\n",
    "    \n",
    "infile.close()"
   ]
  },
  {
   "cell_type": "code",
   "execution_count": null,
   "metadata": {},
   "outputs": [],
   "source": [
    "#파일명이 없을 때 오류 처리\n",
    "\n",
    "import os\n",
    "\n",
    "infile = None\n",
    "fName, inList, inStr = \"\", [], \"\"\n",
    "\n",
    "fName = input(\"파일명을 입력 하세요 : \")\n",
    "\n",
    "if os.path.exists(fName):\n",
    "    infile = open(fName, 'r', encoding = 'UTF-8')\n",
    "    \n",
    "    inList = infile.readlines()\n",
    "    \n",
    "    for inStr in inList:\n",
    "        print(inStr, end = \"\")\n",
    "        infile.close()\n",
    "else :\n",
    "    print(\"%s 파일이 없습니다.\" % fName)"
   ]
  },
  {
   "cell_type": "code",
   "execution_count": 7,
   "metadata": {},
   "outputs": [],
   "source": [
    "#텍스트 파일 저장하기 writelines() - List에 있는 문자열 파일에 저장하기\n",
    "\n",
    "outFile = open(\"C:/Coding/Python/class_of_2_2/contents_of_class/ch9/testfiles/data.txt\", \"w\")\n",
    "memo = [\"1번 째 줄입니다. \\n\", \"2번 째 줄입니다. 냐하 \\n\"]\n",
    "outFile.writelines(memo)\n",
    "outFile.close()"
   ]
  },
  {
   "cell_type": "code",
   "execution_count": null,
   "metadata": {},
   "outputs": [],
   "source": [
    "#텍스트 파일 저장하기 writelines() - 키보드에서 입력한 내용을 한 행씩 파일에 쓰는 코드\n",
    "\n",
    "ouFile = None\n",
    "outStr = \"\"\n",
    "\n",
    "outFile = open(\"C:/Coding/Python/class_of_2_2/contents_of_class/ch9/testfiles/data.txt\", \"w\")\n",
    "\n",
    "while True:\n",
    "    outStr = input(\"내용 입력 :\")\n",
    "    if outStr != \"\":\n",
    "        outFile.write(outStr + \"\\n\")\n",
    "        \n",
    "    else :\n",
    "        break\n",
    "    \n",
    "outFile.close()\n",
    "print(\"---정상적으로 파일에 씀---\")"
   ]
  },
  {
   "cell_type": "code",
   "execution_count": 2,
   "metadata": {},
   "outputs": [
    {
     "name": "stdout",
     "output_type": "stream",
     "text": [
      "---파일이 정상적으로 복사되었음 ---\n"
     ]
    }
   ],
   "source": [
    "#파일을 읽어 다른 파일로 저장하기\n",
    "\n",
    "inStr = \"\"\n",
    "inFile = open(\"C:/Coding/Python/class_of_2_2/contents_of_class/ch9/testfiles/data.txt\", \"r\")\n",
    "outFile = open(\"C:/Coding/Python/class_of_2_2/contents_of_class/ch9/testfiles/data4.txt\", \"w\")\n",
    "\n",
    "inList = inFile.readlines()\n",
    "for inStr in inList:\n",
    "    outFile.write(inStr)\n",
    "    \n",
    "inFile.close()\n",
    "outFile.close()\n",
    "print(\"---파일이 정상적으로 복사되었음 ---\")"
   ]
  },
  {
   "cell_type": "code",
   "execution_count": null,
   "metadata": {},
   "outputs": [],
   "source": [
    "#write()함수 - 문자열을 파일에 저장하기\n",
    "\n",
    "outFile = open(\"C:/Coding/Python/class_of_2_2/contents_of_class/ch9/testfiles/data.txt\", \"w\")\n",
    "data = \"\"\n",
    "\n",
    "for i in range(1, 6):\n",
    "    data += \"%s번 째 줄입니다. \\n\" %i\n",
    "    \n",
    "outFile.write(data)\n",
    "outFile.close()"
   ]
  },
  {
   "cell_type": "code",
   "execution_count": null,
   "metadata": {},
   "outputs": [],
   "source": [
    "#기존 파일에 새로운 내용 추가하기\n",
    "\n",
    "outFile = open(\"C:/Spyder_PyThon/contents_of_class/ch9/data.txt\", \"a\")\n",
    "data = \"\"\n",
    "\n",
    "for i in range(6, 10):\n",
    "    data += \"%s번 째 줄입니다. \\n\" %i\n",
    "    \n",
    "outFile.writelines(data)\n",
    "outFile.close()"
   ]
  },
  {
   "cell_type": "code",
   "execution_count": null,
   "metadata": {},
   "outputs": [],
   "source": [
    "#텍스트 파일 with문 사용 -> f.write(\"\")\n",
    "\n",
    "with open(\"C:/Coding/Python/class_of_2_2/contents_of_class/ch9/testfiles/data.txt\", \"w\") as f:\n",
    "    f.write(\"처음에는 우리가 습관을 만들지만 \\n\")\n",
    "    f.write(\"그 다음에는 습관이 우리를 만든다 \\n\")    "
   ]
  },
  {
   "cell_type": "code",
   "execution_count": null,
   "metadata": {},
   "outputs": [],
   "source": [
    "#이진 파일 읽고 쓰기\n",
    "\n",
    "data = [1, 2, 3, 4, 5]\n",
    "with open (\"C:/Coding/Python/class_of_2_2/contents_of_class/ch9/testfiles/bData.bn\", \"wb\") as outFile:\n",
    "    outFile.write(bytes(data))"
   ]
  },
  {
   "cell_type": "code",
   "execution_count": null,
   "metadata": {},
   "outputs": [],
   "source": [
    "#이진 파일 복사하기 - 하나의 이미지 파일을 다른 이미지 파일로 복사하기\n",
    "\n",
    "filename1 = \"한국산업기술대학교.png\"\n",
    "filename2 = \"한국공학대학교.png\"\n",
    "\n",
    "infile = open(\"C:/coding/Python/class_of_2_2/contents_of_class/ch9/testfiles/한국산업기술대학교.png\", \"rb\")\n",
    "outfile = open(\"C:/coding/Python/class_of_2_2/contents_of_class/ch9/testfiles/한국공학대학교.png\", \"wb\")\n",
    "\n",
    "#입력 파일에서 1024 바이트씩 읽어서 출력 파일에 쓴다.\n",
    "while True:\n",
    "    copy_buffer = infile.read(1024)\n",
    "    if not copy_buffer:\n",
    "        break\n",
    "    outfile.write(copy_buffer)\n",
    "    \n",
    "infile.close()\n",
    "outfile.close()\n",
    "print(filename1 + \"를\" + filename2 + \"로 복사하였습니다.\")"
   ]
  },
  {
   "cell_type": "code",
   "execution_count": 4,
   "metadata": {},
   "outputs": [],
   "source": [
    "#파이썬 GUI를 이용하여 PNG 이미지 파일 출력\n",
    "\n",
    "import tkinter\n",
    "\n",
    "window = tkinter.Tk()\n",
    "window.title(\"한국공학대학교 보기\")\n",
    "\n",
    "img = tkinter.PhotoImage(file = \"C:/Coding/Python/class_of_2_2/contents_of_class/ch9/testfiles/한국공학대학교.png\", master = window)\n",
    "\n",
    "TU_Korea = tkinter.Label(window, image = img)\n",
    "TU_Korea.pack()\n",
    "window.mainloop()"
   ]
  },
  {
   "cell_type": "code",
   "execution_count": null,
   "metadata": {},
   "outputs": [],
   "source": [
    "#파이썬 GUI를 이용하여 JPG 이미지 파일 출력화면\n",
    "\n",
    "import tkinter\n",
    "from PIL import Image, ImageTk\n",
    "\n",
    "window = tkinter.Tk()\n",
    "window.title(\"한국공학대학교 보기\")\n",
    "\n",
    "load = Image.open(\"C:/coding/Python/class_of_2_2/contents_of_class/ch9/testfiles/한국공학대학교.jpg\")\n",
    "render = ImageTk.PhotoImage(load)\n",
    "\n",
    "TU_Korea = tkinter.Label(window, image=render)\n",
    "TU_Korea.pack()\n",
    "window.mainloop()"
   ]
  },
  {
   "cell_type": "code",
   "execution_count": null,
   "metadata": {},
   "outputs": [],
   "source": [
    "#Try, except 문 - 예외 발생\n",
    "\n",
    "myStr = \"파이썬은 재미 있어요!!\"\n",
    "strPoList = []\n",
    "index = 0\n",
    "\n",
    "while True:\n",
    "    try :\n",
    "        index = myStr.index(\"파이썬\", index)\n",
    "        strPoList.append(index)\n",
    "        index = index + 1 #다음 위치부터 찾음\n",
    "    except :\n",
    "        break\n",
    "    \n",
    "print(\"파이썬 글자 위치 -->\", strPoList)"
   ]
  },
  {
   "cell_type": "code",
   "execution_count": null,
   "metadata": {},
   "outputs": [],
   "source": [
    "#Try, except 문 - 예외 처리\n",
    "\n",
    "myStr = \"재미 있어요 파이썬\"\n",
    "strPoList = []\n",
    "index = 0\n",
    "\n",
    "while True:\n",
    "    try :\n",
    "        index = myStr.index(\"파이썬\", index)\n",
    "        strPoList.append(index)\n",
    "        index = index + 1 #다음 위치부터 찾음\n",
    "    except:\n",
    "        break\n",
    "    \n",
    "print(\"파이썬 글자 위치 -->\", strPoList)"
   ]
  },
  {
   "cell_type": "code",
   "execution_count": null,
   "metadata": {},
   "outputs": [],
   "source": [
    "#Try, except 문 - 숫자 입력\n",
    "\n",
    "while True:\n",
    "    try :\n",
    "        n = input(\"숫자를 입력하세요 : \")\n",
    "        n = int(n)\n",
    "        break\n",
    "    except ValueError:\n",
    "        print(\"정수가 아닙니다. 다시 입력하세요.\")\n",
    "        \n",
    "print(\"정수 입력이 성공 하였습니다.\")"
   ]
  },
  {
   "cell_type": "code",
   "execution_count": null,
   "metadata": {},
   "outputs": [],
   "source": [
    "#Try, except문 = 파일 이름 입력\n",
    "\n",
    "try :\n",
    "    fname = input(\"파일 이름을 입력 하세요 :\")\n",
    "    infile = open(fname, \"r\")\n",
    "\n",
    "except IOError:\n",
    "    print(\"파일\" + fname + \"을 발견할 수 없습니다.\")"
   ]
  },
  {
   "cell_type": "code",
   "execution_count": null,
   "metadata": {},
   "outputs": [],
   "source": [
    "#다중 예외 처리 - 여러개의 오류 처리\n",
    "\n",
    "try :   # 먼저 발생한 에러를 표시 -> IndexError\n",
    "    a = [1, 2]\n",
    "    print(a[3])\n",
    "    4/0\n",
    "    \n",
    "except ZeroDivisionError:\n",
    "    print(\"0으로 나눌 수 없습니다.\")\n",
    "except IndexError:\n",
    "    print(\"인덱싱 할 수 없습니다.\")\n",
    "    \n",
    "\"\"\" try :   # 먼저 발생한 에러를 표시 -> ZeroDivisionError\n",
    "    a = [1, 2]\n",
    "    4 / 0\n",
    "    print(a[3])\n",
    "    \n",
    "except ZeroDivisionError:\n",
    "    print(\"0으로 나눌 수 없습니다.\")\n",
    "except IndexError:\n",
    "    print(\"인덱싱 할 수 없습니다.\") \"\"\""
   ]
  },
  {
   "cell_type": "code",
   "execution_count": null,
   "metadata": {},
   "outputs": [],
   "source": [
    "#다중 예외 처리 - try문에 else절 사용\n",
    "\n",
    "try :\n",
    "    fh = open(\"C:/Spyder_PyThon/contents_of_class/ch9/testfile.txt\", \"w\")\n",
    "    fh.write(\"테스트 데이터를 파일에 씁니다!!\")\n",
    "    \n",
    "except IOError:\n",
    "    print(\"Error : 파일을 찾을 수 없거나 데이터를 쓸 수 없습니당.\")\n",
    "\n",
    "else:\n",
    "    print(\"파일에 성공적으로 기록하였습니다.\")\n",
    "    fh.close()"
   ]
  },
  {
   "cell_type": "code",
   "execution_count": null,
   "metadata": {},
   "outputs": [],
   "source": [
    "#오류와 예외처리 - try...finally\n",
    "\n",
    "def division (a, b):\n",
    "    x = a / b\n",
    "    print(x)\n",
    "    \n",
    "try :\n",
    "    division(4, 0)\n",
    "except ZeroDivisionError as e:\n",
    "    print(\"0으로 나누지 마세요. {0} 에러가 발생합니다.\".format(e))\n",
    "else:\n",
    "    print(\"나눗셈이 정상적으로 실행 되었습니다.\")\n",
    "finally:\n",
    "    print(\"프로그램을 종료 합니다.\")"
   ]
  },
  {
   "cell_type": "code",
   "execution_count": null,
   "metadata": {},
   "outputs": [],
   "source": [
    "#예외 발생하기\n",
    "\n",
    "def three_multiple():\n",
    "    x = int(input(\"3의 배수를 입력하세요 : \"))\n",
    "    #x가 3의 배수가 아니면\n",
    "    if x % 3 != 0:\n",
    "        #예외를 발생시킴\n",
    "        raise Exception(\"3의 배수가 아닙니다.\")\n",
    "    print(x)\n",
    "    \n",
    "try :\n",
    "    three_multiple()\n",
    "except Exception as e:\n",
    "    print(\"예외가 발생했습니다.\", e)"
   ]
  },
  {
   "cell_type": "code",
   "execution_count": null,
   "metadata": {},
   "outputs": [],
   "source": [
    "#CSV 파일    \n",
    "import csv\n",
    "\n",
    "f = open(\"C:/Coding/Python/class_of_2_2/contents_of_class/ch9/testfiles/weather.csv\")\n",
    "data = csv.reader(f)\n",
    "header = next(data)\n",
    "print(header)\n",
    "temp = 100.0\n",
    "\n",
    "for row in data:\n",
    "    if temp > float(row[3]):\n",
    "        temp = float(row[3])\n",
    "    \n",
    "print(\"가장 추웠던 날은\", temp, \"입니다.\")\n",
    "f.close()"
   ]
  }
 ],
 "metadata": {
  "kernelspec": {
   "display_name": "Python 3",
   "language": "python",
   "name": "python3"
  },
  "language_info": {
   "codemirror_mode": {
    "name": "ipython",
    "version": 3
   },
   "file_extension": ".py",
   "mimetype": "text/x-python",
   "name": "python",
   "nbconvert_exporter": "python",
   "pygments_lexer": "ipython3",
   "version": "3.11.5"
  }
 },
 "nbformat": 4,
 "nbformat_minor": 2
}
